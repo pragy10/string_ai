{
 "cells": [
  {
   "cell_type": "code",
   "execution_count": 2,
   "id": "f6d115f9-d65a-41d6-80e2-136042839ca5",
   "metadata": {},
   "outputs": [
    {
     "name": "stderr",
     "output_type": "stream",
     "text": [
      "C:\\Users\\pragy\\anaconda3\\envs\\llm\\Lib\\site-packages\\tqdm\\auto.py:21: TqdmWarning: IProgress not found. Please update jupyter and ipywidgets. See https://ipywidgets.readthedocs.io/en/stable/user_install.html\n",
      "  from .autonotebook import tqdm as notebook_tqdm\n"
     ]
    }
   ],
   "source": [
    "import tqdm as notebook_tqdm\n",
    "from langchain_google_genai import GoogleGenerativeAI"
   ]
  },
  {
   "cell_type": "code",
   "execution_count": 3,
   "id": "f4c5a998-e7be-4f8f-9d7a-cfa93bad1814",
   "metadata": {},
   "outputs": [
    {
     "name": "stdin",
     "output_type": "stream",
     "text": [
      "Provide your api key here ········\n"
     ]
    }
   ],
   "source": [
    "import getpass\n",
    "import os\n",
    "\n",
    "if \"GOOGLE_API_KEY\" not in os.environ:\n",
    "    os.environ[\"GOOGLE_API_KEY\"] = getpass.getpass(\"Provide your api key here\")\n",
    "\n",
    "api_key = os.environ[\"GOOGLE_API_KEY\"]"
   ]
  },
  {
   "cell_type": "code",
   "execution_count": 4,
   "id": "8e4b4731-d1e5-44b7-ae65-94b788447ffe",
   "metadata": {},
   "outputs": [
    {
     "name": "stdout",
     "output_type": "stream",
     "text": [
      "* **Aardvark** - A tech startup that helps people find information and answers.\n",
      "* **Blip** - A tech startup that creates short-form video content.\n",
      "* **Carousel** - A tech startup that creates social media platforms.\n",
      "* **Digicube** - A tech startup that creates virtual reality experiences.\n",
      "* **Ember** - A tech startup that creates software for businesses.\n",
      "* **Flo** - A tech startup that creates mobile apps for women.\n",
      "* **Glitch** - A tech startup that creates gaming platforms.\n",
      "* **Hubble** - A tech startup that creates space exploration technology.\n",
      "* **Jukebox** - A tech startup that creates music streaming platforms.\n",
      "* **Kaleidoscope** - A tech startup that creates augmented reality experiences.\n",
      "* **Launchpad** - A tech startup that helps people launch their own businesses.\n",
      "* **Mosaic** - A tech startup that creates artificial intelligence solutions.\n",
      "* **Narwhal** - A tech startup that creates cryptocurrency platforms.\n",
      "* **Oculus** - A tech startup that creates virtual reality headsets.\n",
      "* **Pluto** - A tech startup that creates space exploration technology.\n",
      "* **Quora** - A tech startup that creates a question-and-answer platform.\n",
      "* **Ripple** - A tech startup that creates blockchain-based payment systems.\n",
      "* **Strava** - A tech startup that creates fitness tracking apps.\n",
      "* **Tesla** - A tech startup that creates electric cars.\n",
      "* **Twitter** - A tech startup that creates a microblogging platform.\n",
      "* **Uber** - A tech startup that creates ride-sharing services.\n",
      "* **Venmo** - A tech startup that creates a mobile payment app.\n",
      "* **Waze** - A tech startup that creates a traffic and navigation app.\n",
      "* **Yelp** - A tech startup that creates a local business review platform.\n"
     ]
    }
   ],
   "source": [
    "llm = GoogleGenerativeAI(model=\"models/text-bison-001\", google_api_key=api_key, temperature=0.7)\n",
    "print(llm.invoke(\"suggest some names for a tech startup\"))"
   ]
  },
  {
   "cell_type": "code",
   "execution_count": 6,
   "id": "86e80cc8-fb17-45a1-b81f-987553775b6a",
   "metadata": {},
   "outputs": [
    {
     "name": "stderr",
     "output_type": "stream",
     "text": [
      "C:\\Users\\pragy\\AppData\\Local\\Temp\\ipykernel_18688\\3678337909.py:19: LangChainDeprecationWarning: The class `LLMChain` was deprecated in LangChain 0.1.17 and will be removed in 1.0. Use RunnableSequence, e.g., `prompt | llm` instead.\n",
      "  chain1 = LLMChain(prompt = pt_name1, llm = llm, output_parser = op, output_key = 'name')\n"
     ]
    },
    {
     "name": "stdout",
     "output_type": "stream",
     "text": [
      "Wellbeing Clinic\n"
     ]
    }
   ],
   "source": [
    "from langchain_core.prompts import PromptTemplate\n",
    "from langchain.chains import LLMChain\n",
    "from langchain_core.output_parsers import StrOutputParser\n",
    "\n",
    "pt_name1 = PromptTemplate(\n",
    "    input_variables = ['domain'],\n",
    "    template = \"give A SINGLE name for a {domain} startup\"\n",
    ")\n",
    "\n",
    "#pt_name.format(domain=\"healthcare\")\n",
    "\n",
    "pt_name2 = PromptTemplate(\n",
    "    input = ['name'],\n",
    "    template = \"suggest some services that {name} provides\"\n",
    ")\n",
    "\n",
    "op = StrOutputParser()\n",
    "\n",
    "chain1 = LLMChain(prompt = pt_name1, llm = llm, output_parser = op, output_key = 'name')\n",
    "chain2 = LLMChain(prompt = pt_name2, llm = llm, output_parser = op, output_key = 'services')\n",
    "\n",
    "result = chain1.invoke({'domain':'healthcare'})\n",
    "\n",
    "if isinstance(result, dict):\n",
    "    print(result['name'])"
   ]
  },
  {
   "cell_type": "markdown",
   "id": "5f39dac6-1e4d-4576-bdb8-47aad7f95423",
   "metadata": {},
   "source": [
    "# Simple Sequential Chains"
   ]
  },
  {
   "cell_type": "code",
   "execution_count": 7,
   "id": "1b525436-3eea-4b44-a480-8d46a5ffc12b",
   "metadata": {},
   "outputs": [
    {
     "name": "stdout",
     "output_type": "stream",
     "text": [
      "Startup name : Wellbeing Clinic\n",
      "\n",
      "**Healthie provides a variety of services to help people manage their health, including:**\n",
      "\n",
      "* **A personal health record (PHR)** that allows users to store their medical information in one place, including prescriptions, test results, and immunization records.\n",
      "* **A secure messaging platform** that allows users to communicate with their doctors and other healthcare providers.\n",
      "* **A symptom checker** that helps users identify potential health problems and find resources for treatment.\n",
      "* **A medication reminder** that helps users stay on top of their medication schedules.\n",
      "* **A health coach** that provides personalized support and guidance to help users reach their health goals.\n",
      "\n",
      "Healthie is an easy-to-use and convenient way for people to manage their health. With its wide range of services, Healthie can help people improve their health and well-being.\n"
     ]
    }
   ],
   "source": [
    "from langchain.chains import SimpleSequentialChain\n",
    "\n",
    "si_sq_chain = SimpleSequentialChain(chains = [chain1, chain2])\n",
    "response = si_sq_chain.invoke('healthcare')\n",
    "\n",
    "if isinstance(response, dict):\n",
    "    print(f\"Startup name : {result['name']}\\n\")\n",
    "    print(response['output'])"
   ]
  },
  {
   "cell_type": "markdown",
   "id": "ef496b91-a4d2-42d2-85db-8c9dfca8e99a",
   "metadata": {},
   "source": [
    "# Sequential Chains"
   ]
  },
  {
   "cell_type": "code",
   "execution_count": 10,
   "id": "fdad3b6f-7908-47eb-9bee-581f71578a4a",
   "metadata": {},
   "outputs": [
    {
     "data": {
      "text/plain": [
       "{'domain': 'drones',\n",
       " 'name': 'AirGo Drones',\n",
       " 'services': '* Aerial photography and videography\\n* 3D mapping and modeling\\n* Inspections of infrastructure, buildings, and other structures\\n* Search and rescue operations\\n* Agriculture and forestry applications\\n* Law enforcement and security\\n* Disaster relief\\n* Media and entertainment\\n* Other commercial and industrial applications'}"
      ]
     },
     "execution_count": 10,
     "metadata": {},
     "output_type": "execute_result"
    }
   ],
   "source": [
    "from langchain.chains import SequentialChain\n",
    "\n",
    "sq_chain = SequentialChain(\n",
    "    chains = [chain1, chain2],\n",
    "    input_variables = ['domain'],\n",
    "    output_variables = ['name','services']\n",
    ")\n",
    "\n",
    "sq_chain.invoke('drones')"
   ]
  },
  {
   "cell_type": "markdown",
   "id": "d922b251-fcbc-4f24-a761-1cf525d53bf7",
   "metadata": {},
   "source": [
    "# Agents"
   ]
  },
  {
   "cell_type": "code",
   "execution_count": 15,
   "id": "afdcfe31-30ff-4f16-9f15-9c569cf9088d",
   "metadata": {},
   "outputs": [
    {
     "name": "stdout",
     "output_type": "stream",
     "text": [
      "\n",
      "\n",
      "\u001b[1m> Entering new AgentExecutor chain...\u001b[0m\n",
      "\u001b[32;1m\u001b[1;3mI need to find the current gdp of india\n",
      "Action: wikipedia\n",
      "Action Input: india gdp\u001b[0m\n",
      "Observation: \u001b[36;1m\u001b[1;3mPage: Economy of India\n",
      "Summary: The economy of India is a developing mixed economy with a notable public sector in strategic sectors. It is the world's fifth-largest economy by nominal GDP and the third-largest by purchasing power parity (PPP); on a per capita income basis, India ranked 136th by GDP (nominal) and 125th by GDP (PPP). From independence in 1947 until 1991, successive governments followed the Soviet model and promoted protectionist economic policies, with extensive Sovietization, state intervention, demand-side economics, natural resources, bureaucrat driven enterprises and economic regulation. This is characterised as dirigism, in the form of the Licence Raj. The end of the Cold War and an acute balance of payments crisis in 1991 led to the adoption of a broad economic liberalisation in India and indicative planning. Since the start of the 21st century, annual average GDP growth has been 6% to 7%., India has about 1,900 public sector companies, Indian state has complete control and ownership of railways, highways; majority control and stake in banking, insurance, farming, dairy, fertilizers & chemicals, airports, nuclear, mining, digitization, defense, steel, rare earths, water, electricity, oil and gas industries and power plants, and has substantial control over digitalization, Broadband as national infrastructure, telecommunication, supercomputing, space, port and shipping industries, among other industries, were effectively nationalised in the mid-1950s.\n",
      "Nearly 70% of India's GDP is driven by domestic consumption; country remains the world's fourth-largest consumer market. Apart from private consumption, India's GDP is also fueled by government spending, investments, and exports. In 2022, India was the world's 10th-largest importer and the 8th-largest exporter. India has been a member of the World Trade Organization since 1 January 1995. It ranks 63rd on the Ease of doing business index and 40th on the Global Competitiveness Index. India has one of the world's highest number of billionaires and extreme income inequality. Economists and social scientists often consider India a welfare state. India is officially declared a socialist state as per the constitution. India's overall social welfare spending stood at 8.6% of GDP in 2021-22, which is much lower than the average for OECD nations. With 586 million workers, the Indian labour force is the world's second-largest.\n",
      "During the Great Recession, the economy faced a mild slowdown. India endorsed Keynesian policy and initiated stimulus measures (both fiscal and monetary) to boost growth and generate demand. In subsequent years, economic growth revived.\n",
      "In 2021–22, the foreign direct investment (FDI) in India was $82 billion. The leading sectors for FDI inflows were the Finance, Banking, Insurance and R&D. India has free trade agreements with several nations and blocs, including ASEAN, SAFTA, Mercosur, South Korea, Japan, Australia, UAE, and several others which are in effect or under negotiating stage. In recent years, independent economists and financial institutions have accused the government of manipulating various economic data, especially GDP growth rate.\n",
      "The service sector makes up  more than 50% of GDP and remains the fastest growing sector, while the industrial sector and the agricultural sector employs a majority of the labor force. The Bombay Stock Exchange and National Stock Exchange are some of the world's largest stock exchanges by market capitalisation. India is the world's sixth-largest manufacturer, representing 2.6% of global manufacturing output. Nearly 65% of India's population is rural, and contributes about 50% of India's GDP. India faces high unemployment, rising income inequality, and a drop in aggregate demand. India's gross domestic savings rate stood at 29.3% of GDP in 2022.\n",
      "\n",
      "Page: List of Indian states and union territories by GDP\n",
      "Summary: These are lists of Indian states and union territories by their nominal gross state domestic prod\u001b[0m\n",
      "Thought:\u001b[32;1m\u001b[1;3mI found the page that has the GDP of india\n",
      "Action: Calculator\n",
      "Action Input: 35.436 tn\u001b[0m\n",
      "Observation: \u001b[33;1m\u001b[1;3mAnswer: 35.436\u001b[0m\n",
      "Thought:\u001b[32;1m\u001b[1;3mI now know the final answer\n",
      "Final Answer: 35.436 trillion rupees\u001b[0m\n",
      "\n",
      "\u001b[1m> Finished chain.\u001b[0m\n"
     ]
    },
    {
     "data": {
      "text/plain": [
       "{'input': 'current gdp of india', 'output': '35.436 trillion rupees'}"
      ]
     },
     "execution_count": 15,
     "metadata": {},
     "output_type": "execute_result"
    }
   ],
   "source": [
    "from langchain.agents import AgentType, initialize_agent, load_tools\n",
    "\n",
    "tools = load_tools(['wikipedia','llm-math'],llm=llm)\n",
    "agent = initialize_agent(tools,llm,agent=AgentType.ZERO_SHOT_REACT_DESCRIPTION, verbose=True)\n",
    "\n",
    "agent.invoke(\"current gdp of india\")"
   ]
  },
  {
   "cell_type": "code",
   "execution_count": 19,
   "id": "0abadda4-a196-4b2d-a5d3-1380538346dd",
   "metadata": {},
   "outputs": [
    {
     "name": "stdout",
     "output_type": "stream",
     "text": [
      "\n",
      "\n",
      "\u001b[1m> Entering new AgentExecutor chain...\u001b[0m\n",
      "\u001b[32;1m\u001b[1;3mI need to search for the logistic regression formula\n",
      "Action: Search\n",
      "Action Input: logistic regression formula\u001b[0m\n",
      "Observation: \u001b[36;1m\u001b[1;3m['The parameters of a logistic regression are most commonly estimated by maximum-likelihood estimation (MLE). This does not have a closed-form expression, unlike ...', 'The notation used for the test statistic is typically G2 G 2 = deviance (reduced) – deviance (full). This test procedure is analagous to the general linear F ...', 'Logistic regression uses a logistic function called a sigmoid function to map predictions and their probabilities. The sigmoid function refers ...', 'In logistic regression, the Wald test is calculated in the same manner. The formula for the Wald statistic is z j = b j s b j where s b j is an estimate of the ...', 'logit(P) = a + bX,. Which is assumed to be linear, that is, the log odds (logit) is assumed to be linearly related to X, our IV. So ...', \"Logistic regression estimates the probability of an event occurring, such as voted or didn't vote, based on a given data set of independent variables.\", 'logit(p) = log(p/(1-p))= (β0 + β1) + (β2 + β3 )*math. Now we can map the logistic regression output to these two equations. So we can say that the coefficient ...', 'In the logistic regression the constant (b0) moves the curve left and right and the slope (b1) defines the steepness of the curve. By simple transformation, ...', 'The log likelihood function is simply the logarithm of L(θ). For this nonlinear optimization, different algorithms have been established over the years such as, ...']\u001b[0m\n",
      "Thought:\u001b[32;1m\u001b[1;3mThe formula for logistic regression is logit(p) = log(p/(1-p))= (β0 + β1) + (β2 + β3 )*math.\n",
      "Final Answer: logit(p) = log(p/(1-p))= (β0 + β1) + (β2 + β3 )*math\u001b[0m\n",
      "\n",
      "\u001b[1m> Finished chain.\u001b[0m\n"
     ]
    },
    {
     "data": {
      "text/plain": [
       "{'input': 'logistic regression formula',\n",
       " 'output': 'logit(p) = log(p/(1-p))= (β0 + β1) + (β2 + β3 )*math'}"
      ]
     },
     "execution_count": 19,
     "metadata": {},
     "output_type": "execute_result"
    }
   ],
   "source": [
    "from secret_keys import serp_api\n",
    "os.environ[\"SERPAPI_API_KEY\"] = serp_api\n",
    "\n",
    "tools = load_tools(['serpapi'], llm = llm)\n",
    "agent = initialize_agent(tools,llm,agent=AgentType.ZERO_SHOT_REACT_DESCRIPTION, verbose = True)\n",
    "agent.invoke('logistic regression formula')"
   ]
  },
  {
   "cell_type": "markdown",
   "id": "982b8649-2aa9-4361-a6f3-42d01ec88626",
   "metadata": {},
   "source": [
    "# Memory"
   ]
  },
  {
   "cell_type": "code",
   "execution_count": 28,
   "id": "c4e8e195-0644-435b-9cec-784fa7a6d6aa",
   "metadata": {},
   "outputs": [
    {
     "name": "stdout",
     "output_type": "stream",
     "text": [
      "\"Gadgets & Gizmos\"\n",
      "\"The Beauty Bar\"\n"
     ]
    }
   ],
   "source": [
    "from langchain.memory import ConversationBufferMemory\n",
    "\n",
    "shop_template = PromptTemplate(\n",
    "    input = ['category'],\n",
    "    template = \"suggest ONE shop name based on {category}\"\n",
    ")\n",
    "\n",
    "memory = ConversationBufferMemory()\n",
    "shop_chain = LLMChain(prompt=shop_template, llm = llm, output_parser = op, output_key = 'shop_name', memory=memory)\n",
    "print(shop_chain.invoke('electronics')['shop_name'])\n",
    "print(shop_chain.invoke('beauty')['shop_name'])\n"
   ]
  },
  {
   "cell_type": "code",
   "execution_count": 29,
   "id": "19168ceb-8742-49ee-bbe9-993d12639b7f",
   "metadata": {},
   "outputs": [
    {
     "name": "stdout",
     "output_type": "stream",
     "text": [
      "Human: electronics\n",
      "AI: \"Gadgets & Gizmos\"\n",
      "Human: beauty\n",
      "AI: \"The Beauty Bar\"\n"
     ]
    }
   ],
   "source": [
    "print(shop_chain.memory.buffer)"
   ]
  },
  {
   "cell_type": "code",
   "execution_count": 50,
   "id": "d92301c2-d690-4fe3-8b40-26ec27697d67",
   "metadata": {},
   "outputs": [
    {
     "name": "stdout",
     "output_type": "stream",
     "text": [
      "The following is a friendly conversation between a human and an AI. The AI is talkative and provides lots of specific details from its context. If the AI does not know the answer to a question, it truthfully says it does not know.\n",
      "\n",
      "Current conversation:\n",
      "{history}\n",
      "Human: {input}\n",
      "AI:\n"
     ]
    }
   ],
   "source": [
    "from langchain.chains import ConversationChain\n",
    "\n",
    "llm = GoogleGenerativeAI(model=\"models/text-bison-001\", google_api_key=api_key, temperature=0.7)\n",
    "conv = ConversationChain(llm=llm)\n",
    "print(conv.prompt.template)"
   ]
  },
  {
   "cell_type": "code",
   "execution_count": 51,
   "id": "097b8c7b-fb76-4835-bfa3-5e4b985e1b2e",
   "metadata": {},
   "outputs": [
    {
     "data": {
      "text/plain": [
       "'Gross domestic product (GDP) is a measure of the value of all goods and services produced within a country or region in a given period of time.'"
      ]
     },
     "execution_count": 51,
     "metadata": {},
     "output_type": "execute_result"
    }
   ],
   "source": [
    "conv.run(\"what is gdp in one sentence\")"
   ]
  },
  {
   "cell_type": "code",
   "execution_count": 52,
   "id": "ddd72537-ae50-4371-92ca-0793e8009928",
   "metadata": {},
   "outputs": [
    {
     "data": {
      "text/plain": [
       "\"India's nominal GDP was $2.94 trillion in 2023.\""
      ]
     },
     "execution_count": 52,
     "metadata": {},
     "output_type": "execute_result"
    }
   ],
   "source": [
    "conv.run(\"whats the gdp of india in one sentence\")"
   ]
  },
  {
   "cell_type": "code",
   "execution_count": 53,
   "id": "5f1e8131-ec71-4147-88a9-c59967e8dbfd",
   "metadata": {},
   "outputs": [
    {
     "data": {
      "text/plain": [
       "\"GDP is used to measure a country's economic output and to compare different countries' economies.\""
      ]
     },
     "execution_count": 53,
     "metadata": {},
     "output_type": "execute_result"
    }
   ],
   "source": [
    "conv.run(\"why is gdp used in one sentence\")"
   ]
  },
  {
   "cell_type": "code",
   "execution_count": 54,
   "id": "46f6c104-ee1f-4507-875d-5ea5952f25b6",
   "metadata": {},
   "outputs": [
    {
     "name": "stdout",
     "output_type": "stream",
     "text": [
      "Human: what is gdp in one sentence\n",
      "AI: Gross domestic product (GDP) is a measure of the value of all goods and services produced within a country or region in a given period of time.\n",
      "Human: whats the gdp of india in one sentence\n",
      "AI: India's nominal GDP was $2.94 trillion in 2023.\n",
      "Human: why is gdp used in one sentence\n",
      "AI: GDP is used to measure a country's economic output and to compare different countries' economies.\n"
     ]
    }
   ],
   "source": [
    "print(conv.memory.buffer)"
   ]
  },
  {
   "cell_type": "code",
   "execution_count": 55,
   "id": "9fba1690-1b62-4dfe-bb4f-d893e06ab59d",
   "metadata": {},
   "outputs": [],
   "source": [
    "from langchain.memory import ConversationBufferWindowMemory\n",
    "from langchain.chains import ConversationChain\n",
    "\n",
    "memory = ConversationBufferWindowMemory(k=1)\n",
    "conv = ConversationChain(llm = llm, memory = memory)"
   ]
  },
  {
   "cell_type": "code",
   "execution_count": 57,
   "id": "81988ba6-cf80-44bb-8bde-12a3b4c7fb51",
   "metadata": {},
   "outputs": [
    {
     "data": {
      "text/plain": [
       "\"Equity is the value of the owner's interest in a company.\""
      ]
     },
     "execution_count": 57,
     "metadata": {},
     "output_type": "execute_result"
    }
   ],
   "source": [
    "conv.run('what is meant by equity in 1 sentence')"
   ]
  },
  {
   "cell_type": "code",
   "execution_count": 58,
   "id": "2a804e19-19c8-4a33-b656-91a946c7f1f1",
   "metadata": {},
   "outputs": [
    {
     "data": {
      "text/plain": [
       "\"Equity can be used to finance a company's operations, pay dividends to shareholders, or buy back shares.\""
      ]
     },
     "execution_count": 58,
     "metadata": {},
     "output_type": "execute_result"
    }
   ],
   "source": [
    "conv.run('uses of equity in 1 sentence')"
   ]
  },
  {
   "cell_type": "code",
   "execution_count": 59,
   "id": "3520798e-0c9a-4162-a321-b04ae0dc6ab8",
   "metadata": {},
   "outputs": [
    {
     "data": {
      "text/plain": [
       "'Examples of equity include common stock, preferred stock, and retained earnings.'"
      ]
     },
     "execution_count": 59,
     "metadata": {},
     "output_type": "execute_result"
    }
   ],
   "source": [
    "conv.run('examples of equity in 1 sentence')"
   ]
  },
  {
   "cell_type": "code",
   "execution_count": 61,
   "id": "3672bc51-4890-4095-aee4-33e701499aa9",
   "metadata": {},
   "outputs": [
    {
     "name": "stdout",
     "output_type": "stream",
     "text": [
      "Human: examples of equity in 1 sentence\n",
      "AI: Examples of equity include common stock, preferred stock, and retained earnings.\n"
     ]
    }
   ],
   "source": [
    "print(conv.memory.buffer)"
   ]
  },
  {
   "cell_type": "code",
   "execution_count": null,
   "id": "76812b93-ae2d-4609-a2f8-068665736f00",
   "metadata": {},
   "outputs": [],
   "source": []
  }
 ],
 "metadata": {
  "kernelspec": {
   "display_name": "Python 3 (ipykernel)",
   "language": "python",
   "name": "python3"
  },
  "language_info": {
   "codemirror_mode": {
    "name": "ipython",
    "version": 3
   },
   "file_extension": ".py",
   "mimetype": "text/x-python",
   "name": "python",
   "nbconvert_exporter": "python",
   "pygments_lexer": "ipython3",
   "version": "3.11.9"
  }
 },
 "nbformat": 4,
 "nbformat_minor": 5
}
