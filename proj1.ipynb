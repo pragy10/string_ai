{
 "cells": [
  {
   "cell_type": "code",
   "execution_count": 1,
   "id": "477d3a8a-d61e-40db-84b7-930d5a4c0732",
   "metadata": {},
   "outputs": [],
   "source": [
    "from langchain.document_loaders import TextLoader\n",
    "\n",
    "loader = TextLoader(\"ondc.txt\", encoding='utf-8')\n",
    "data = loader.load()"
   ]
  },
  {
   "cell_type": "code",
   "execution_count": 2,
   "id": "9064471d-5b04-4ea4-81fb-d4a13058def9",
   "metadata": {},
   "outputs": [
    {
     "data": {
      "text/plain": [
       "'   #[1]ONDC | Open Network for Digital Commerce\\n\\n      [1] https://ondc.org/\\n\\n   IFRAME:\\n   [2]https://www.googletagmanager.com/ns.html?id=GTM-MXJHTV5\\n\\n      [2] https://www.googletagmanager.com/ns.html?id=GTM-MXJHTV5\\n\\n   [3]ONDC | Open Network for Digital Commerce\\n\\n      [3] https://ondc.org/\\n\\n     Language icon [English__]\\n\\n     * [4]Complaints\\n      https://ondc.org/complaints\\n\\n     * [5]Open Data\\n      https://opendata.ondc.org/\\n\\n     * [6]Home\\n      https://ondc.org/\\n\\n     * [7]About\\n      https://ondc.org/about-ondc/\\n\\n     * [8]How to Shop\\n      https://ondc.org/ondc-buyer-apps/\\n\\n     * [9]What to Buy\\n      https://ondc.org/what-to-buy\\n\\n     * [10]Learn About ONDC\\n      https://ondc.org/learn-about-ondc/\\n\\n     * Sign up\\n     * [11]Network Participants\\n      https://ondc.org/network-participants/\\n\\n     * [12]Roles You Can Play\\n      https://ondc.org/roles-you-can-play/\\n\\n     * [13]How To Join\\n      https://ondc.org/ondc-how-to-join/\\n\\n     * [14]Sellers on ONDC Network\\n      https://ondc.org/sellers/\\n\\n     * [15]Blog\\n      https://ondc.org/blog/\\n\\n     * [16]News\\n      https://ondc.org/tag/news\\n\\n     * [17]Press Releases\\n      https://ondc.org/press-releases\\n\\n     * [18]FAQs\\n      https://ondc.org/faq\\n\\n     * [19]RFPs/RFQs\\n      https://ondc.org/rfp/\\n\\n     * [20]Join Us\\n      https://ondc.org/careers\\n\\n     * [21]Contact Us\\n      https://ondc.org/contact-ondc\\n\\n     * [22]Resources\\n      https://resources.ondc.org/\\n\\n     * [23]Open Data\\n      https://opendata.ondc.org/\\n\\n     * [24]Complaints\\n\\n      https://ondc.org/complaints\\n\\n     * participants [25]ONDC Participants\\n               o [26]Network Participants\\n               o [27]Ecosystem Participants\\n                    # [28]Sellers on ONDC Network\\n                   https://ondc.org/network-participants/\\n                   https://ondc.org/network-participants/\\n                   https://ondc.org/network-participants/#echo\\n                   https://ondc.org/sellers/\\n\\n     * participants Sign up\\n     * How to shop [29]How to Shop\\n      https://ondc.org/ondc-buyer-apps/\\n\\n     * [30]What to Buy\\n\\n     [30] https://ondc.org/what-to-buy\\n\\n     Language icon [English__]\\n\\n     * [31]Blog\\n      https://ondc.org/blog/\\n\\n     * [32]News\\n      https://ondc.org/tag/news\\n\\n     * [33]Press Releases\\n      https://ondc.org/press-releases\\n\\n     * [34]FAQs\\n      https://ondc.org/faq\\n\\n     * [35]RFPs/RFQs\\n      https://ondc.org/rfp/\\n\\n     * [36]Join Us\\n      https://ondc.org/careers\\n\\n     * [37]Contact Us\\n\\n     [37] https://ondc.org/contact-ondc\\n\\n   ONDC Logo\\n\\n   Do you want to change your default language? [English__]\\n   Continue Cancel\\n\\n   (BUTTON)\\n   Sign-up\\n\\nONDC Participant Portal\\n\\n   Begin and efficiently manage your journey on ONDC Network\\n     * Understand and select your role(s)\\n     * Track, manage and troubleshoot your integration\\n     * Discover and collaborate with others\\n     * Stay informed on network developments and announcements\\n\\n   (BUTTON) Sign up\\n\\n   Open Network for Digital Commerce\\n\\nEveryone\\'s Commerce!\\n\\n   Where anyone can sell and everyone can buy from each other\\n   online.\\n   (BUTTON) How To Join (BUTTON) Learn About ONDC\\n\\n     * [38]Seller banner Seller banner\\n      https://ondc.org/sellers/\\n\\n     * [39]Tech banner Tech banner\\n      https://ondc.org/tech\\n\\n     * [40]ONDC Academy ONDC Academy\\n      https://resources.ondc.org/ondc-academy\\n\\n     * [41]Seller NP handbook Seller NP handbook\\n      https://resources.ondc.org/guidanceandgoodpractices#sellernp\\n\\n     * [42]ONDC Strategy paper ONDC Strategy paper\\n      javascript:void(0);\\n\\n     * [43]ONDC Integration Guide ONDC Integration guide\\n\\n     [43] https://onedrive.live.com/view.aspx?resid=5C553375A4A6F887!156&authkey=!AGYLPZk_mysyJRc\\n\\n   [44]01 [45]02 [46]03 [47]04\\n\\n     [44] https://ondc.org/\\n     [45] https://ondc.org/\\n     [46] https://ondc.org/\\n     [47] https://ondc.org/\\n\\n   IFRAME: [48]https://www.youtube.com/embed/ZRwQDJPVwqI\\n\\n     [48] https://www.youtube.com/embed/ZRwQDJPVwqI\\n\\n   IFRAME: [49]https://www.youtube.com/embed/ZRwQDJPVwqI\\n\\n     [49] https://www.youtube.com/embed/ZRwQDJPVwqI\\n\\nHow ONDC Works\\n\\n   How ONDC Works Video How ONDC Works Video\\n   Watch it in English + 14 languages\\n     * Assamese\\n     * Bengali\\n     * English\\n     * Gujrati\\n     * Hindi\\n     * Kannada\\n     * Kashmiri\\n     * Malayalam\\n     * Marathi\\n     * Odia\\n     * Punjabi\\n     * Sanskrit\\n     * Tamil\\n     * Telugu\\n     * Urdu\\n\\n     * Assamese\\n     * Bengali\\n     * English\\n     * Gujrati\\n     * Hindi\\n     * Kannada\\n     * Kashmiri\\n     * Malayalam\\n     * Marathi\\n     * Odia\\n     * Punjabi\\n     * Sanskrit\\n     * Tamil\\n     * Telugu\\n     * Urdu\\n\\nAccelerate Your Growth\\n\\n   Regardless of what aspect of business you are engaged in, ONDC\\n   provides you opportunities to accelerate your growth.\\n\\nBenefits:-\\n\\n     * Seller - Get an equal opportunity to compete with large\\n       market players and become discoverable online.\\n     * Buyers - Enjoy a seamless shopping experience from a wide\\n       assortment of products across categories in a single\\n       checkout experience.\\n     * Tech Companies - Rapid adoption of products and services\\n       and achieving scale in go-to-market efforts.\\n     * FinTech - Provide credit and financing solutions to all\\n       entities engaged in e‑commerce.\\n\\n   (BUTTON) How To Join (BUTTON) How To Join\\n\\nOur Network’s Impact\\n\\n   Alpha Cities Live- ONDC\\n\\n807+\\n\\n   Cities Live [50]View Cities\\n   Stat domains ONDC\\n\\n     [50] javascript:void(0);\\n\\n10\\n\\n   Domains Live\\n   Cities Live Alpha\\n\\n113\\n\\n   Network Participants Live [51]Learn More\\n   Cities Live Alpha\\n\\n     [51] https://ondc.org/network-participants/\\n\\n6.93+ Lakh\\n\\n   Sellers / Service Providers\\n   Total Orders\\n\\n12.4 Million\\n\\n   Total Orders Total Orders for the Month - Aug\\' 24\\n   Vector illustration for business\\n\\nDomains live on the network\\n\\n   [52]Food & Beverage [53]Grocery [54]Fashion & Footwear [55]Home\\n   & Kitchen [56]Electronics [57]Beauty & Personal Care [58]Health\\n   & Wellness [59]Gift Cards [60]Mobility [61]Financial Services\\n   [62]Services [63]Agriculture\\n   Continental Middle Eastern North Indian Regional Indian\\n   South Indian Pan-Asian Tex-Mexican Healthy Food\\n   World Cuisines Desserts Beverages Fast Food\\n   Baby Care Bakery, Cakes & Dairy Beauty & Hygiene Beverages\\n   Cleaning & Household\\n   Eggs, Meat & Fish Foodgrains Fruits & Vegetables Gourmet &\\n   World Foods Kitchen Accessories\\n   Masala & Seasoning Oil & Ghee Snacks & Branded Foods Stationery\\n   Pet Care\\n   Home Decor Home Furnishings Furniture\\n   Garden and Outdoor Products Home Improvement\\n   Cookware and Dining Storage and Organisation\\n   Audio Cameras and Camcorders Computer Peripherals Desktop and\\n   Laptops Gaming Mobile Phones Safety Security\\n   Televisions Video Wearable Products Air Conditioning and Air\\n   Cleaners Health, Home and Personal Care Heaters Kitchen\\n   Appliances\\n   Lighting & Electric Fans Refrigerators and Freezers Vacuum\\n   Cleaners Washing Machines and Accessories Water Purifiers and\\n   Coolers Inverter & Stabilizer\\n   Men\\'s Accessories Men\\'s Apparel Men\\'s Bags & Luggage Men\\'s\\n   Eyewear Men\\'s Footwear Men\\'s Jewellery Infants Apparel Infant\\n   Care & Accessories\\n   Women\\'s Accessories Women\\'s Apparel Women\\'s Bags & Luggage\\n   Women\\'s Eyewear Women\\'s Footwear Women\\'s Jewellery Infants\\n   Towels & Wrappers\\n   Kid\\'s Apparel Kid\\'s Footwear Kid\\'s Accessories Kid\\'s Jewellery\\n   Kid\\'s Eyewear Kid\\'s Bags & Luggage\\n   Bath & Body Feminine Care Fragrance Hair Care\\n   Make Up Men\\'s Grooming Mom & Baby Oral Care\\n   Sexual Wellness & Sensuality Skin Care Tools & Accessories\\n   Pain Relief Nutrition and Fitness Supplements Speciality Care\\n   Covid Essentials Diabetes Control Healthcare & Fitness Devices\\n   Ayurvedic Homeopathy Unani and Siddha Elder Care Baby Care\\n   Orthopaedic Care Mobility Aids\\n   Medicated Hair Care Medicated Skin Care Speciality Face\\n   Cleansers Gastric Care ENT Care Eye Care Cold and Cough Sexual\\n   Wellness Feminine Care Maternity Care Nursing and Feeding Hand\\n   Wash Sanitizers\\n   Baby Care - Wipes and Buds Baby Care - Rash Creams Baby Care -\\n   Diapers and Accessories Oral Care Contraceptives Breathe Easy\\n   Health Foods and Drinks Wound Care and Dressings Surgicals\\n   Mental Wellness Gift Voucher Pain Relieving Ointments Nutrition\\n   and Supplements\\n   Personal and Baby Care Gastric and Other Concerns Health\\n   Devices Infant Feeding & Nursing Essentials Infant Diapers &\\n   Toilet Training Infant Health & Safety Sexual Wellness &\\n   Sensuality Infant Care & Accessories Infant Bath Accessories\\n   Health & Fitness Equipment Fitness Tracker\\n   Retail Gift Cards Enterprise Gift Cards\\n\\n     [52] javascript:void(0)\\n     [53] javascript:void(0)\\n     [54] javascript:void(0)\\n     [55] javascript:void(0)\\n     [56] javascript:void(0)\\n     [57] javascript:void(0)\\n     [58] javascript:void(0)\\n     [59] javascript:void(0)\\n     [60] javascript:void(0)\\n     [61] javascript:void(0)\\n     [62] javascript:void(0)\\n     [63] javascript:void(0)\\n\\n   Credit\\n   Unsecured Personal Loans Unsecured GST Based Invoice Loans\\n   Unsecured Purchase Finance Unsecured Working Capital Lines\\n\\n   Insurance\\n   Health Insurance Marine Insurance Motor Insurance Life\\n   Insurance\\n\\n   Investments\\n   Mutual Funds\\n   Auto Cabs\\n   Flights Metro Rail\\n   Charter\\n   Skilled Service\\n   Entertainment\\n   Subscription-Based Solutions\\n\\n   Input\\n   Seed Pesticide Fertilizer Organic Crop Protection Organic Crop\\n   Nutrition Tools and Machinery Cattle Feed\\n\\n   Output\\n   Pulses Cereals Oilseeds Fruits Vegetables Spices Plantation\\n   Crop Flowers Fibre Crop Dry fruit\\n   Honey Meat Milk Fish Wool Sugar Crops Crop residue Processing\\n   Byproduct Poultry Product\\n\\n   Services\\n   Soil Test Water Test Quality Assaying Warehousing\\n   Spraying/Drone Services Equipment hiring Financial Services\\n   Insurance Agri Advisory\\n   Active Coming Soon [64]Visit - Specs & Resources\\n\\n     [64] https://resources.ondc.org/financial-services\\n\\nRoles on the ONDC network\\n\\n   [65]Buyer Network Participant [66]Seller Network Participant\\n   [67]Gateway [68]Technology Service Provider\\n\\n     [65] javascript:void(0)\\n     [66] javascript:void(0)\\n     [67] javascript:void(0)\\n     [68] javascript:void(0)\\n\\nBuyer Network Participant\\n\\n   Connects buyers to the ONDC network via a buyer application and\\n   shoulders buyer-facing responsibilities such as customer\\n   support, ensuring a seamless shopping experience, and providing\\n   a unified checkout experience across categories.\\n   [69]Know More [70]How to Join\\n   Buyer Network Participants- ONDC\\n\\n     [69] https://ondc.org/roles-you-can-play#buyerapp\\n     [70] https://ondc.org/ondc-how-to-join#step\\n\\nSeller Network Participant\\n\\n   A Seller Network Participant is responsible for connecting\\n   sellers to the ONDC network through a seller application. They\\n   are also responsible for digitizing the seller\\'s catalogue and\\n   dispersing payments. Additionally, they must train sellers on\\n   best practices in e-commerce to ensure quality fulfilment and\\n   provide a positive buying experience for customers.\\n   [71]Know More [72]How to Join\\n   Seller Network on ONDC\\n\\n     [71] https://ondc.org/roles-you-can-play#sellerapp\\n     [72] https://ondc.org/ondc-how-to-join#step\\n\\nONDC Gateway\\n\\n   Gateways play a crucial role in an open-network ecosystem. It\\n   refers to technology providers who will ensure discoverability\\n   of all sellers in the ONDC Network by multicasting the search\\n   request received from buyer applications to all the seller\\n   applications and vice-versa, as provided in the Network\\n   Policies of ONDC.\\n   [73]Know More [74]How to Join\\n   Business discussion for ecommerce expansion\\n\\n     [73] https://ondc.org/roles-you-can-play#gateway\\n     [74] https://ondc.org/ondc-how-to-join#step\\n\\nTechnology Service Provider\\n\\n   Technology Service Providers play a vital role in providing a\\n   variety of software applications (either stand-alone or through\\n   the cloud) but only as an outsourced software provider to Buyer\\n   and Seller applications. Their services ensure smooth business\\n   operations on the ONDC network. TSPs empower players to\\n   participate in e-commerce without having any in-house\\n   technology capabilities.\\n   [75]Know More [76]How to Join\\n   Be a part of ONDC\\n\\n     [75] https://ondc.org/roles-you-can-play#tech-service\\n     [76] https://ondc.org/ondc-how-to-join#step\\n\\nAdvisory Council Members\\n\\n     * Adil Zainulbhai Chairman Capacity Building Commission\\n    Adil Zainulbhai Chairperson Capacity Building Commission\\n     * Anil Agrwal- Uttar Pradesh\\n    Anil Agrawal Member Competition Commission of India\\n     * Anjali Bansal- Founder & Chairperson, Avaana Capital\\n    Anjali Bansal Founder & Chairperson Avaana Capital\\n     * Anurag Jain- Secretary, Ministry of Road Transportation and\\n       Highways\\n    Anurag Jain Secretary Ministry of Road Transportation and\\n       Highways\\n     * Aravind Gupta- Cofounder and head Digital India Foundation\\n    Arvind Gupta Co-Founder & Head Digital India Foundation\\n     * Dilip Asbe- MD and CEO NPCI\\n    Dilip Asbe MD & CEO NPCI\\n     * Jaxay Shah- Chairman QCI\\n    Jaxay Shah Chairman QCI\\n     * Kumar Rajgopalan- CEO RAI\\n    Kumar Rajgopalan CEO RAI\\n     * Nandan Nilekani- Non executive chairman Infosys\\n    Nandan M. Nilekani Non-Executive Chairman Infosys\\n     * Praveen Khandelwal- Secretary General CAIT\\n    Praveen Khandelwal Secretary General CAIT\\n     * R S Sharma- CEO National Health Authority\\n    Dr. R S Sharma CEO National Health Authority\\n     * Sanjiv Singh- Joint Secretary, DPIIT\\n    Sanjiv Joint Secretary, DPIIT Ministry of Commerce & Industry\\n     * Suresh Sethi Managing Director & CEO Protean eGov\\n       Technologies Ltd\\n    Suresh Sethi MD & CEO Protean eGov Technologies Limited\\n\\nLatest Feeds\\n\\nLatest Blog\\n\\n   [77](BUTTON) View All Blogs\\n   Build for Bharat\\n   3 months ago 1 min read\\n\\n     [77] https://ondc.org/blog\\n\\nBuild for Bharat\\n\\n   In January 2024, ONDC joined forces with Google, Antler,\\n   Protean and Paytm to launch “Build for Bharat”, a nationwide\\n   hackathon that aimed to democratise the digital commerce\\n   ecosystem in India. This initiative helped ONDC in leveraging\\n   community contribution to find innovative and scalable\\n   solutions to tackle the most critical challenges\\n   Redefining Digital Commerce through Open Network Framework\\n   8 months ago 2 min read\\n\\nRedefining Digital Commerce through Open Network Framework\\n\\n   The world has already ushered in a new paradigm of\\n   interoperable open network concepts with introduction of open\\n   protocols such as HTTP and SMTP, however, the e-commerce\\n   ecosystem still operates in closed, non-interoperable\\n   platforms, resulting in significant concentration of data and\\n   services. This has led to market inefficiencies, amalgamation\\n   of\\n   ONDC Logistics Network Workshop: A Collaborative Effort to\\n   Empower E-commerce Logistics\\n   8 months ago 1 min read\\n\\nONDC Logistics Network Workshop: A Collaborative Effort to Empower\\nE-commerce Logistics\\n\\n   In an era of rapid digital transformation, the Open Network for\\n   Digital Commerce (ONDC) has emerged as a beacon of innovation,\\n   democratizing e-commerce and expanding its reach across diverse\\n   sectors and cities. Recognizing the pivotal role of logistics\\n   in this ambitious journey, ONDC convened a transformative\\n   workshop on November 30,\\n\\nLatest News\\n\\n   [78](BUTTON) View All News\\n   SaaS startup Finarkein announces raising $4.75 mn in pre-series\\n   A round\\n   7 days ago 1 min read\\n\\n     [78] https://ondc.org/tag/news\\n\\nSaaS startup Finarkein announces raising $4.75 mn in pre-series A\\nround\\n\\n   Publication - Business Standard Edition - Online Finarkein has\\n   raised $4.75 million in a pre-series A round led by Nexus\\n   Venture Partners, said the business-to-business software as a\\n   service company on Tuesday. The round also saw participation\\n   from existing investors IIFL’s Fintech Fund and Eximius\\n   Ventures, and angels\\n   17 states saw retail purchases cross 100,000-mark on ONDC in\\n   June quarter\\n   8 days ago 1 min read\\n\\n17 states saw retail purchases cross 100,000-mark on ONDC in June\\nquarter\\n\\n   Publication - Money Control Edition - Online As the Open\\n   Network for Digital Commerce (ONDC) looks to broaden its base\\n   to gain a stronger foothold in the hinterlands, data showed\\n   that four states placed at least a million retail orders each\\n   in the June quarter and 17 of them crossed\\n   Fintech startup PhonePe swings to adjusted profit in FY24\\n   8 days ago 1 min read\\n\\nFintech startup PhonePe swings to adjusted profit in FY24\\n\\n   Publication - mint Edition - Online Bengaluru: Fintech startup\\n   PhonePe clocked a profit after tax of ₹197 crores, excluding\\n   ESOP costs, in the financial year 2024, compared to a loss of\\n   ₹738 crore a year earlier. The company’s standalone payments\\n   business also reported an adjusted PAT of ₹710 crore\\n\\n   Disclaimer: The infographic/animation is only for illustration\\n   purposes and does not depict the actual structure of ONDC. The\\n   name of the buyers portrayed is fictitious, and no\\n   identification with actual persons (living or deceased) is\\n   intended or should be inferred. Please note that ONDC is not a\\n   central mediator or intermediary, neither does it interfaces\\n   with buyers and sellers. ONDC is merely a communication\\n   protocol that allows Buyer Network Participants and Seller\\n   Network Participants to interact with each other.\\n\\n   ONDC Bottom Banner\\n\\nONDC Participant Portal\\n\\n   Begin and efficiently manage your journey on ONDC Network\\n     * Understand and select your role(s)\\n     * Track, manage and troubleshoot your integration\\n     * Discover and collaborate with others\\n     * Stay informed on network developments and announcements\\n\\n   (BUTTON) Sign up\\n\\n   (BUTTON)\\n   807 Cities [79]Show all [80]Hide All Cities\\n  javascript:void(0);\\n  javascript:void(0);\\n\\n     * Agra\\n     * Ahmedabad\\n     * Alappuzha\\n     * Ambernath\\n     * Amritsar\\n\\n     * Ballari\\n     * Bareli\\n     * Belagavi\\n     * Bengaluru\\n     * Bhopal\\n\\n     * Bhubaneswar\\n     * Bijnor\\n     * Bobbili\\n     * Chandausi\\n     * Chennai\\n\\n     * Chhindwara\\n     * Chikkamagaluru\\n     * Coimbatore\\n     * Cuttack\\n     * Delhi\\n\\n     * Derahun\\n     * Ernakulam\\n     * Erode\\n     * Faridabad\\n     * Gangtok\\n\\n     * Gorakhpur\\n     * Gurugram\\n     * Haridwar\\n     * Haveri\\n     * Hosur\\n\\n     * Hubballi\\n     * Hyderabad\\n     * Indore\\n     * Jabalpur\\n     * Jaipur\\n\\n     * Jammu\\n     * Kannur\\n     * Kanpur\\n     * Kochi\\n     * Kolkata\\n\\n     * Kollam\\n     * Kotputli\\n     * Kozhikode Dist\\n     * Kumbakonam\\n     * Lakhimpur\\n\\n     * Lucknow\\n     * Margao\\n     * Madurai\\n     * Malur\\n     * Mandya\\n\\n     * Mangaluru\\n     * Mannar\\n     * Meerut\\n     * Mohali\\n     * Moradabad\\n\\n     * Mumbai\\n     * Mysuru\\n     * Nadiad\\n     * Nashik\\n     * New Delhi\\n\\n     * Noida\\n     * North Goa\\n     * Palakkad\\n     * Panaji\\n     * Piler\\n\\n     * Pollachi\\n     * Ponda\\n     * Pune\\n     * Rajkot\\n     * Saharanpur\\n\\n     * Secunderabad\\n     * Shillong\\n     * Singur\\n     * Sitamarhi\\n     * Sitapura Industrial Area\\n\\n     * Sri Ganganagar\\n     * Srinagar\\n     * Sumerpur\\n     * Surat\\n     * Surendranagar\\n\\n     * Thane\\n     * Theni\\n     * Thiruvananthapuram\\n     * Tindivanam\\n     * Tiruchirappalli\\n\\n     * Tirunelveli\\n     * Thrissur\\n     * Tiruchirappalli\\n     * Tumakuru\\n     * Udaipur\\n\\n     * Udupi\\n     * Vadodara\\n     * Vellore\\n     * Vijayawada\\n\\n   [81]Hide All Cities\\n\\n     [81] javascript:void(0);\\n\\n   (BUTTON)\\n   7 Cities\\n     * Bengaluru\\n     * Delhi(including Noida, Gurgaon and Faridabad)\\n     * Chennai\\n     * Hyderabad\\n     * Kolkata\\n     * Meerut\\n     * Mumbai\\n\\n   (BUTTON)\\n   Type to search ____________________\\n\\n   No results for your search, please try with something else.\\n\\n   About ONDC [82]Overview [83]Board Of Directors [84]Download the\\n   Strategy Paper [85]Download the Public Consultation Paper\\n   ONDC Participants [86]Network Participants [87]Ecosystem\\n   Participants\\n   Roles you can play [88]Buyer Network Participant [89]Seller\\n   Network Participant [90]Gateway [91]Technology Service Provider\\n   Help & Support [92]Contact Us [93]Privacy Policy [94]Cookie\\n   Policy [95]Terms and Conditions [96]FAQs\\n\\n     [82] https://ondc.org/about-ondc/\\n     [83] https://ondc.org/about-ondc/#advisory\\n     [84] javascript:void(0);\\n     [85] javascript:void(0);\\n     [86] https://ondc.org/network-participants/#network\\n     [87] https://ondc.org/network-participants/#echo\\n     [88] https://ondc.org/roles-you-can-play/#buyerapp\\n     [89] https://ondc.org/roles-you-can-play/#sellerapp\\n     [90] https://ondc.org/roles-you-can-play/#gateway\\n     [91] https://ondc.org/roles-you-can-play/#tech-service\\n     [92] https://ondc.org/contact-ondc/\\n     [93] https://ondc.org/privacy-policy/\\n     [94] https://ondc.org/cookie-policy/\\n     [95] https://ondc.org/terms-and-conditions/\\n     [96] https://ondc.org/faq/\\n\\n   Open Network for Digital Commerce -Logo ONDC | Open Network for\\n   Digital Commerce © 2024\\n   [97]Instagram [98]Youtube [99]Kooapp\\n   [100]Privacy Policy [101]Terms and Conditions\\n\\n  https://www.instagram.com/ondc_official/\\n  https://www.youtube.com/@ondc1300\\n  https://www.kooapp.com/profile/OpenNetworkForDigitalCommerce\\n  https://ondc.org/privacy-policy/\\n  https://ondc.org/terms-and-conditions/\\n\\n     * [sign_up_icon.png?v=10446bd637]\\n       Sign up - ONDC Participant Portal\\n     * [ondc-official-guide.webp?v=10446bd637]\\n       Download Now\\n       for Android™\\n     * [whatsapp_logo.png?v=10446bd637]\\n       ONDC SAHAYAK\\n       Click here to learn how to sell through the ONDC Network.\\n       Say \"Hi\" on +91 8130935050\\n\\n   (BUTTON)\\n   Sign-up\\n\\nONDC Participant Portal\\n\\n   Begin and efficiently manage your journey on ONDC Network\\n     * Understand and select your role(s)\\n     * Track, manage and troubleshoot your integration\\n     * Discover and collaborate with others\\n     * Stay informed on network developments and announcements\\n\\n   (BUTTON) Sign up\\n'"
      ]
     },
     "execution_count": 2,
     "metadata": {},
     "output_type": "execute_result"
    }
   ],
   "source": [
    "data[0].page_content"
   ]
  },
  {
   "cell_type": "markdown",
   "id": "0a0ce79a-c6e4-4f41-aafe-fb7d6c624f2d",
   "metadata": {},
   "source": [
    "# Using UnstructuredURLLoader"
   ]
  },
  {
   "cell_type": "code",
   "execution_count": 3,
   "id": "13b7d7cc-5027-4d90-8a3a-ced06b9105f7",
   "metadata": {},
   "outputs": [
    {
     "data": {
      "text/plain": [
       "'Blog\\n\\nNews\\n\\nPress Releases\\n\\nFAQs\\n\\nRFPs/RFQs\\n\\nJoin Us\\n\\nContact Us\\n\\nDo you want to change your default language?\\n\\nContinue Cancel\\n\\nONDC Participant Portal\\n\\nBegin and efficiently manage your journey on ONDC Network\\n\\nUnderstand and select your role(s)\\n\\nTrack, manage and troubleshoot your integration\\n\\nDiscover and collaborate with others\\n\\nStay informed on network developments and announcements\\n\\nOpen Network for Digital Commerce\\n\\nEveryone\\'s Commerce!\\n\\nWhere anyone can sell and everyone can buy from each other online.\\n\\n01 02 03 04\\n\\nHow ONDC Works\\n\\nWatch it in English + 14 languages\\n\\nAssamese\\n\\nBengali\\n\\nEnglish\\n\\nGujrati\\n\\nHindi\\n\\nKannada\\n\\nKashmiri\\n\\nMalayalam\\n\\nMarathi\\n\\nOdia\\n\\nPunjabi\\n\\nSanskrit\\n\\nTamil\\n\\nTelugu\\n\\nUrdu\\n\\nAssamese\\n\\nBengali\\n\\nEnglish\\n\\nGujrati\\n\\nHindi\\n\\nKannada\\n\\nKashmiri\\n\\nMalayalam\\n\\nMarathi\\n\\nOdia\\n\\nPunjabi\\n\\nSanskrit\\n\\nTamil\\n\\nTelugu\\n\\nUrdu\\n\\nAccelerate Your Growth\\n\\nRegardless of what aspect of business you are engaged in, ONDC provides you opportunities to accelerate your growth.\\n\\nBenefits:-\\n\\nSeller - Get an equal opportunity to compete with large market players and become discoverable online.\\n\\nBuyers - Enjoy a seamless shopping experience from a wide assortment of products across categories in a single checkout experience.\\n\\nTech Companies - Rapid adoption of products and services and achieving scale in go-to-market efforts.\\n\\nFinTech - Provide credit and financing solutions to all entities engaged in e‑commerce.\\n\\nOur Network’s Impact\\n\\n807+\\n\\nCities Live View Cities\\n\\n10\\n\\nDomains Live\\n\\n113\\n\\nNetwork Participants Live Learn More\\n\\n6.93+ Lakh\\n\\nSellers / Service Providers\\n\\n12.4 Million\\n\\nTotal Orders Total Orders for the Month - Aug\\' 24\\n\\nDomains live on the network\\n\\nFood & Beverage Grocery Fashion & Footwear Home & Kitchen Electronics Beauty & Personal Care Health & Wellness Gift Cards Mobility Financial Services Services Agriculture\\n\\nContinental Middle Eastern North Indian Regional Indian\\n\\nSouth Indian Pan-Asian Tex-Mexican Healthy Food\\n\\nWorld Cuisines Desserts Beverages Fast Food\\n\\nBaby Care Bakery, Cakes & Dairy Beauty & Hygiene Beverages Cleaning & Household\\n\\nEggs, Meat & Fish Foodgrains Fruits & Vegetables Gourmet & World Foods Kitchen Accessories\\n\\nMasala & Seasoning Oil & Ghee Snacks & Branded Foods Stationery Pet Care\\n\\nHome Decor Home Furnishings Furniture\\n\\nGarden and Outdoor Products Home Improvement\\n\\nCookware and Dining Storage and Organisation\\n\\nAudio Cameras and Camcorders Computer Peripherals Desktop and Laptops Gaming Mobile Phones Safety Security\\n\\nTelevisions Video Wearable Products Air Conditioning and Air Cleaners Health, Home and Personal Care Heaters Kitchen Appliances\\n\\nLighting & Electric Fans Refrigerators and Freezers Vacuum Cleaners Washing Machines and Accessories Water Purifiers and Coolers Inverter & Stabilizer\\n\\nMen\\'s Accessories Men\\'s Apparel Men\\'s Bags & Luggage Men\\'s Eyewear Men\\'s Footwear Men\\'s Jewellery Infants Apparel Infant Care & Accessories\\n\\nWomen\\'s Accessories Women\\'s Apparel Women\\'s Bags & Luggage Women\\'s Eyewear Women\\'s Footwear Women\\'s Jewellery Infants Towels & Wrappers\\n\\nKid\\'s Apparel Kid\\'s Footwear Kid\\'s Accessories Kid\\'s Jewellery Kid\\'s Eyewear Kid\\'s Bags & Luggage\\n\\nBath & Body Feminine Care Fragrance Hair Care\\n\\nMake Up Men\\'s Grooming Mom & Baby Oral Care\\n\\nSexual Wellness & Sensuality Skin Care Tools & Accessories\\n\\nPain Relief Nutrition and Fitness Supplements Speciality Care Covid Essentials Diabetes Control Healthcare & Fitness Devices Ayurvedic Homeopathy Unani and Siddha Elder Care Baby Care Orthopaedic Care Mobility Aids\\n\\nMedicated Hair Care Medicated Skin Care Speciality Face Cleansers Gastric Care ENT Care Eye Care Cold and Cough Sexual Wellness Feminine Care Maternity Care Nursing and Feeding Hand Wash Sanitizers\\n\\nBaby Care - Wipes and Buds Baby Care - Rash Creams Baby Care - Diapers and Accessories Oral Care Contraceptives Breathe Easy Health Foods and Drinks Wound Care and Dressings Surgicals Mental Wellness Gift Voucher Pain Relieving Ointments Nutrition and Supplements\\n\\nPersonal and Baby Care Gastric and Other Concerns Health Devices Infant Feeding & Nursing Essentials Infant Diapers & Toilet Training Infant Health & Safety Sexual Wellness & Sensuality Infant Care & Accessories Infant Bath Accessories Health & Fitness Equipment Fitness Tracker\\n\\nRetail Gift Cards Enterprise Gift Cards\\n\\nCredit\\n\\nUnsecured Personal Loans Unsecured GST Based Invoice Loans Unsecured Purchase Finance Unsecured Working Capital Lines\\n\\nInsurance\\n\\nHealth Insurance Marine Insurance Motor Insurance Life Insurance\\n\\nInvestments\\n\\nMutual Funds\\n\\nAuto Cabs\\n\\nFlights Metro Rail\\n\\nCharter\\n\\nSkilled Service\\n\\nEntertainment\\n\\nSubscription-Based Solutions\\n\\nInput\\n\\nSeed Pesticide Fertilizer Organic Crop Protection Organic Crop Nutrition Tools and Machinery Cattle Feed\\n\\nOutput\\n\\nPulses Cereals Oilseeds Fruits Vegetables Spices Plantation Crop Flowers Fibre Crop Dry fruit\\n\\nHoney Meat Milk Fish Wool Sugar Crops Crop residue Processing Byproduct Poultry Product\\n\\nServices\\n\\nSoil Test Water Test Quality Assaying Warehousing Spraying/Drone Services Equipment hiring Financial Services Insurance Agri Advisory\\n\\nActive Coming Soon Visit - Specs & Resources\\n\\nRoles on the ONDC network\\n\\nBuyer Network Participant Seller Network Participant Gateway Technology Service Provider\\n\\nBuyer Network Participant\\n\\nConnects buyers to the ONDC network via a buyer application and shoulders buyer-facing responsibilities such as customer support, ensuring a seamless shopping experience, and providing a unified checkout experience across categories.\\n\\nKnow More How to Join\\n\\nSeller Network Participant\\n\\nA Seller Network Participant is responsible for connecting sellers to the ONDC network through a seller application. They are also responsible for digitizing the seller\\'s catalogue and dispersing payments. Additionally, they must train sellers on best practices in e-commerce to ensure quality fulfilment and provide a positive buying experience for customers.\\n\\nKnow More How to Join\\n\\nONDC Gateway\\n\\nGateways play a crucial role in an open-network ecosystem. It refers to technology providers who will ensure discoverability of all sellers in the ONDC Network by multicasting the search request received from buyer applications to all the seller applications and vice-versa, as provided in the Network Policies of ONDC.\\n\\nKnow More How to Join\\n\\nTechnology Service Provider\\n\\nTechnology Service Providers play a vital role in providing a variety of software applications (either stand-alone or through the cloud) but only as an outsourced software provider to Buyer and Seller applications. Their services ensure smooth business operations on the ONDC network. TSPs empower players to participate in e-commerce without having any in-house technology capabilities.\\n\\nKnow More How to Join\\n\\nAdvisory Council Members\\n\\nAdil Zainulbhai\\n\\nChairperson Capacity Building Commission\\n\\nAnil Agrawal\\n\\nMember Competition Commission of India\\n\\nAnjali Bansal\\n\\nFounder & Chairperson Avaana Capital\\n\\nAnurag Jain\\n\\nSecretary Ministry of Road Transportation and Highways\\n\\nArvind Gupta\\n\\nCo-Founder & Head Digital India Foundation\\n\\nDilip Asbe\\n\\nMD & CEO NPCI\\n\\nJaxay Shah\\n\\nChairman QCI\\n\\nKumar Rajgopalan\\n\\nCEO RAI\\n\\nNandan M. Nilekani\\n\\nNon-Executive Chairman Infosys\\n\\nPraveen Khandelwal\\n\\nSecretary General CAIT\\n\\nDr. R S Sharma\\n\\nCEO National Health Authority\\n\\nSanjiv\\n\\nJoint Secretary, DPIIT Ministry of Commerce & Industry\\n\\nSuresh Sethi\\n\\nMD & CEO Protean eGov Technologies Limited\\n\\nLatest Feeds\\n\\nLatest Blog\\n\\n3 months ago 1 min read\\n\\nBuild for Bharat\\n\\nIn January 2024, ONDC joined forces with Google, Antler, Protean and Paytm to launch “Build for Bharat”, a nationwide hackathon that aimed to democratise the digital commerce ecosystem in India. This initiative helped ONDC in leveraging community contribution to find innovative and scalable solutions to tackle the most critical challenges\\n\\n8 months ago 2 min read\\n\\nRedefining Digital Commerce through Open Network Framework\\n\\nThe world has already ushered in a new paradigm of interoperable open network concepts with introduction of open protocols such as HTTP and SMTP, however, the e-commerce ecosystem still operates in closed, non-interoperable platforms, resulting in significant concentration of data and services. This has led to market inefficiencies, amalgamation of\\n\\n8 months ago 1 min read\\n\\nONDC Logistics Network Workshop: A Collaborative Effort to Empower E-commerce Logistics\\n\\nIn an era of rapid digital transformation, the Open Network for Digital Commerce (ONDC) has emerged as a beacon of innovation, democratizing e-commerce and expanding its reach across diverse sectors and cities. Recognizing the pivotal role of logistics in this ambitious journey, ONDC convened a transformative workshop on November 30,\\n\\nLatest News\\n\\n8 days ago 1 min read\\n\\nSaaS startup Finarkein announces raising $4.75 mn in pre-series A round\\n\\nPublication - Business Standard Edition - Online Finarkein has raised $4.75 million in a pre-series A round led by Nexus Venture Partners, said the business-to-business software as a service company on Tuesday. The round also saw participation from existing investors IIFL’s Fintech Fund and Eximius Ventures, and angels\\n\\n9 days ago 1 min read\\n\\n17 states saw retail purchases cross 100,000-mark on ONDC in June quarter\\n\\nPublication - Money Control Edition - Online As the Open Network for Digital Commerce (ONDC) looks to broaden its base to gain a stronger foothold in the hinterlands, data showed that four states placed at least a million retail orders each in the June quarter and 17 of them crossed\\n\\n9 days ago 1 min read\\n\\nFintech startup PhonePe swings to adjusted profit in FY24\\n\\nPublication - mint Edition - Online Bengaluru: Fintech startup PhonePe clocked a profit after tax of ₹197 crores, excluding ESOP costs, in the financial year 2024, compared to a loss of ₹738 crore a year earlier. The company’s standalone payments business also reported an adjusted PAT of ₹710 crore\\n\\nDisclaimer: The infographic/animation is only for illustration purposes and does not depict the actual structure of ONDC. The name of the buyers portrayed is fictitious, and no identification with actual persons (living or deceased) is intended or should be inferred. Please note that ONDC is not a central mediator or intermediary, neither does it interfaces with buyers and sellers. ONDC is merely a communication protocol that allows Buyer Network Participants and Seller Network Participants to interact with each other.\\n\\nONDC Participant Portal\\n\\nBegin and efficiently manage your journey on ONDC Network\\n\\nUnderstand and select your role(s)\\n\\nTrack, manage and troubleshoot your integration\\n\\nDiscover and collaborate with others\\n\\nStay informed on network developments and announcements\\n\\n807 Cities Show all Hide All Cities\\n\\nAgra\\n\\nAhmedabad\\n\\nAlappuzha\\n\\nAmbernath\\n\\nAmritsar\\n\\nBallari\\n\\nBareli\\n\\nBelagavi\\n\\nBengaluru\\n\\nBhopal\\n\\nBhubaneswar\\n\\nBijnor\\n\\nBobbili\\n\\nChandausi\\n\\nChennai\\n\\nChhindwara\\n\\nChikkamagaluru\\n\\nCoimbatore\\n\\nCuttack\\n\\nDelhi\\n\\nDerahun\\n\\nErnakulam\\n\\nErode\\n\\nFaridabad\\n\\nGangtok\\n\\nGorakhpur\\n\\nGurugram\\n\\nHaridwar\\n\\nHaveri\\n\\nHosur\\n\\nHubballi\\n\\nHyderabad\\n\\nIndore\\n\\nJabalpur\\n\\nJaipur\\n\\nJammu\\n\\nKannur\\n\\nKanpur\\n\\nKochi\\n\\nKolkata\\n\\nKollam\\n\\nKotputli\\n\\nKozhikode Dist\\n\\nKumbakonam\\n\\nLakhimpur\\n\\nLucknow\\n\\nMargao\\n\\nMadurai\\n\\nMalur\\n\\nMandya\\n\\nMangaluru\\n\\nMannar\\n\\nMeerut\\n\\nMohali\\n\\nMoradabad\\n\\nMumbai\\n\\nMysuru\\n\\nNadiad\\n\\nNashik\\n\\nNew Delhi\\n\\nNoida\\n\\nNorth Goa\\n\\nPalakkad\\n\\nPanaji\\n\\nPiler\\n\\nPollachi\\n\\nPonda\\n\\nPune\\n\\nRajkot\\n\\nSaharanpur\\n\\nSecunderabad\\n\\nShillong\\n\\nSingur\\n\\nSitamarhi\\n\\nSitapura Industrial Area\\n\\nSri Ganganagar\\n\\nSrinagar\\n\\nSumerpur\\n\\nSurat\\n\\nSurendranagar\\n\\nThane\\n\\nTheni\\n\\nThiruvananthapuram\\n\\nTindivanam\\n\\nTiruchirappalli\\n\\nTirunelveli\\n\\nThrissur\\n\\nTiruchirappalli\\n\\nTumakuru\\n\\nUdaipur\\n\\nUdupi\\n\\nVadodara\\n\\nVellore\\n\\nVijayawada\\n\\nHide All Cities\\n\\n7 Cities\\n\\nBengaluru\\n\\nDelhi(including Noida, Gurgaon and Faridabad)\\n\\nChennai\\n\\nHyderabad\\n\\nKolkata\\n\\nMeerut\\n\\nMumbai\\n\\nNo results for your search, please try with something else.\\n\\nAbout ONDC Overview Board Of Directors Download the Strategy Paper Download the Public Consultation Paper\\n\\nONDC Participants Network Participants Ecosystem Participants\\n\\nRoles you can play Buyer Network Participant Seller Network Participant Gateway Technology Service Provider\\n\\nHelp & Support Contact Us Privacy Policy Cookie Policy Terms and Conditions FAQs\\n\\nONDC | Open Network for Digital Commerce © 2024\\n\\nPrivacy Policy Terms and Conditions\\n\\nSign up - ONDC Participant Portal\\n\\nDownload Now\\n\\nfor Android™\\n\\nONDC SAHAYAK\\n\\nClick here to learn how to sell through the ONDC Network. Say \"Hi\" on +91 8130935050\\n\\nONDC Participant Portal\\n\\nBegin and efficiently manage your journey on ONDC Network\\n\\nUnderstand and select your role(s)\\n\\nTrack, manage and troubleshoot your integration\\n\\nDiscover and collaborate with others\\n\\nStay informed on network developments and announcements'"
      ]
     },
     "execution_count": 3,
     "metadata": {},
     "output_type": "execute_result"
    }
   ],
   "source": [
    "from langchain.document_loaders import UnstructuredURLLoader\n",
    "\n",
    "loader = UnstructuredURLLoader(urls=['https://ondc.org/'])\n",
    "data = loader.load()\n",
    "data[0].page_content"
   ]
  },
  {
   "cell_type": "markdown",
   "id": "744b7f90-4ae8-4a95-a55d-abb320ae1555",
   "metadata": {},
   "source": [
    "# CharacterTextSplitter"
   ]
  },
  {
   "cell_type": "code",
   "execution_count": 4,
   "id": "12688bbe-78dc-4169-a31b-3149d8d48625",
   "metadata": {},
   "outputs": [
    {
     "name": "stderr",
     "output_type": "stream",
     "text": [
      "Created a chunk of size 214, which is longer than the specified 200\n",
      "Created a chunk of size 263, which is longer than the specified 200\n",
      "Created a chunk of size 278, which is longer than the specified 200\n",
      "Created a chunk of size 233, which is longer than the specified 200\n",
      "Created a chunk of size 360, which is longer than the specified 200\n",
      "Created a chunk of size 319, which is longer than the specified 200\n",
      "Created a chunk of size 387, which is longer than the specified 200\n",
      "Created a chunk of size 340, which is longer than the specified 200\n",
      "Created a chunk of size 350, which is longer than the specified 200\n",
      "Created a chunk of size 335, which is longer than the specified 200\n",
      "Created a chunk of size 320, which is longer than the specified 200\n",
      "Created a chunk of size 283, which is longer than the specified 200\n",
      "Created a chunk of size 299, which is longer than the specified 200\n",
      "Created a chunk of size 524, which is longer than the specified 200\n"
     ]
    },
    {
     "data": {
      "text/plain": [
       "['Blog\\nNews\\nPress Releases\\nFAQs\\nRFPs/RFQs\\nJoin Us\\nContact Us\\nDo you want to change your default language?\\nContinue Cancel\\nONDC Participant Portal',\n",
       " 'Begin and efficiently manage your journey on ONDC Network\\nUnderstand and select your role(s)\\nTrack, manage and troubleshoot your integration\\nDiscover and collaborate with others',\n",
       " \"Stay informed on network developments and announcements\\nOpen Network for Digital Commerce\\nEveryone's Commerce!\\nWhere anyone can sell and everyone can buy from each other online.\\n01 02 03 04\",\n",
       " 'How ONDC Works\\nWatch it in English + 14 languages\\nAssamese\\nBengali\\nEnglish\\nGujrati\\nHindi\\nKannada\\nKashmiri\\nMalayalam\\nMarathi\\nOdia\\nPunjabi\\nSanskrit\\nTamil\\nTelugu\\nUrdu\\nAssamese\\nBengali\\nEnglish\\nGujrati',\n",
       " 'Hindi\\nKannada\\nKashmiri\\nMalayalam\\nMarathi\\nOdia\\nPunjabi\\nSanskrit\\nTamil\\nTelugu\\nUrdu\\nAccelerate Your Growth',\n",
       " 'Regardless of what aspect of business you are engaged in, ONDC provides you opportunities to accelerate your growth.\\nBenefits:-',\n",
       " 'Seller - Get an equal opportunity to compete with large market players and become discoverable online.',\n",
       " 'Buyers - Enjoy a seamless shopping experience from a wide assortment of products across categories in a single checkout experience.',\n",
       " 'Tech Companies - Rapid adoption of products and services and achieving scale in go-to-market efforts.\\nFinTech - Provide credit and financing solutions to all entities engaged in e‑commerce.',\n",
       " 'Our Network’s Impact\\n807+\\nCities Live View Cities\\n10\\nDomains Live\\n113\\nNetwork Participants Live Learn More\\n6.93+ Lakh\\nSellers / Service Providers\\n12.4 Million',\n",
       " \"Total Orders Total Orders for the Month - Aug' 24\\nDomains live on the network\",\n",
       " 'Food & Beverage Grocery Fashion & Footwear Home & Kitchen Electronics Beauty & Personal Care Health & Wellness Gift Cards Mobility Financial Services Services Agriculture',\n",
       " 'Continental Middle Eastern North Indian Regional Indian\\nSouth Indian Pan-Asian Tex-Mexican Healthy Food\\nWorld Cuisines Desserts Beverages Fast Food',\n",
       " 'Baby Care Bakery, Cakes & Dairy Beauty & Hygiene Beverages Cleaning & Household\\nEggs, Meat & Fish Foodgrains Fruits & Vegetables Gourmet & World Foods Kitchen Accessories',\n",
       " 'Masala & Seasoning Oil & Ghee Snacks & Branded Foods Stationery Pet Care\\nHome Decor Home Furnishings Furniture\\nGarden and Outdoor Products Home Improvement\\nCookware and Dining Storage and Organisation',\n",
       " 'Audio Cameras and Camcorders Computer Peripherals Desktop and Laptops Gaming Mobile Phones Safety Security',\n",
       " 'Televisions Video Wearable Products Air Conditioning and Air Cleaners Health, Home and Personal Care Heaters Kitchen Appliances',\n",
       " 'Lighting & Electric Fans Refrigerators and Freezers Vacuum Cleaners Washing Machines and Accessories Water Purifiers and Coolers Inverter & Stabilizer',\n",
       " \"Men's Accessories Men's Apparel Men's Bags & Luggage Men's Eyewear Men's Footwear Men's Jewellery Infants Apparel Infant Care & Accessories\",\n",
       " \"Women's Accessories Women's Apparel Women's Bags & Luggage Women's Eyewear Women's Footwear Women's Jewellery Infants Towels & Wrappers\",\n",
       " \"Kid's Apparel Kid's Footwear Kid's Accessories Kid's Jewellery Kid's Eyewear Kid's Bags & Luggage\\nBath & Body Feminine Care Fragrance Hair Care\\nMake Up Men's Grooming Mom & Baby Oral Care\",\n",
       " 'Sexual Wellness & Sensuality Skin Care Tools & Accessories',\n",
       " 'Pain Relief Nutrition and Fitness Supplements Speciality Care Covid Essentials Diabetes Control Healthcare & Fitness Devices Ayurvedic Homeopathy Unani and Siddha Elder Care Baby Care Orthopaedic Care Mobility Aids',\n",
       " 'Medicated Hair Care Medicated Skin Care Speciality Face Cleansers Gastric Care ENT Care Eye Care Cold and Cough Sexual Wellness Feminine Care Maternity Care Nursing and Feeding Hand Wash Sanitizers',\n",
       " 'Baby Care - Wipes and Buds Baby Care - Rash Creams Baby Care - Diapers and Accessories Oral Care Contraceptives Breathe Easy Health Foods and Drinks Wound Care and Dressings Surgicals Mental Wellness Gift Voucher Pain Relieving Ointments Nutrition and Supplements',\n",
       " 'Personal and Baby Care Gastric and Other Concerns Health Devices Infant Feeding & Nursing Essentials Infant Diapers & Toilet Training Infant Health & Safety Sexual Wellness & Sensuality Infant Care & Accessories Infant Bath Accessories Health & Fitness Equipment Fitness Tracker',\n",
       " 'Retail Gift Cards Enterprise Gift Cards\\nCredit\\nUnsecured Personal Loans Unsecured GST Based Invoice Loans Unsecured Purchase Finance Unsecured Working Capital Lines\\nInsurance',\n",
       " 'Health Insurance Marine Insurance Motor Insurance Life Insurance\\nInvestments\\nMutual Funds\\nAuto Cabs\\nFlights Metro Rail\\nCharter\\nSkilled Service\\nEntertainment\\nSubscription-Based Solutions\\nInput',\n",
       " 'Seed Pesticide Fertilizer Organic Crop Protection Organic Crop Nutrition Tools and Machinery Cattle Feed\\nOutput',\n",
       " 'Pulses Cereals Oilseeds Fruits Vegetables Spices Plantation Crop Flowers Fibre Crop Dry fruit\\nHoney Meat Milk Fish Wool Sugar Crops Crop residue Processing Byproduct Poultry Product\\nServices',\n",
       " 'Soil Test Water Test Quality Assaying Warehousing Spraying/Drone Services Equipment hiring Financial Services Insurance Agri Advisory\\nActive Coming Soon Visit - Specs & Resources',\n",
       " 'Roles on the ONDC network\\nBuyer Network Participant Seller Network Participant Gateway Technology Service Provider\\nBuyer Network Participant',\n",
       " 'Connects buyers to the ONDC network via a buyer application and shoulders buyer-facing responsibilities such as customer support, ensuring a seamless shopping experience, and providing a unified checkout experience across categories.',\n",
       " 'Know More How to Join\\nSeller Network Participant',\n",
       " \"A Seller Network Participant is responsible for connecting sellers to the ONDC network through a seller application. They are also responsible for digitizing the seller's catalogue and dispersing payments. Additionally, they must train sellers on best practices in e-commerce to ensure quality fulfilment and provide a positive buying experience for customers.\",\n",
       " 'Know More How to Join\\nONDC Gateway',\n",
       " 'Gateways play a crucial role in an open-network ecosystem. It refers to technology providers who will ensure discoverability of all sellers in the ONDC Network by multicasting the search request received from buyer applications to all the seller applications and vice-versa, as provided in the Network Policies of ONDC.',\n",
       " 'Know More How to Join\\nTechnology Service Provider',\n",
       " 'Technology Service Providers play a vital role in providing a variety of software applications (either stand-alone or through the cloud) but only as an outsourced software provider to Buyer and Seller applications. Their services ensure smooth business operations on the ONDC network. TSPs empower players to participate in e-commerce without having any in-house technology capabilities.',\n",
       " 'Know More How to Join\\nAdvisory Council Members\\nAdil Zainulbhai\\nChairperson Capacity Building Commission\\nAnil Agrawal\\nMember Competition Commission of India\\nAnjali Bansal',\n",
       " 'Founder & Chairperson Avaana Capital\\nAnurag Jain\\nSecretary Ministry of Road Transportation and Highways\\nArvind Gupta\\nCo-Founder & Head Digital India Foundation\\nDilip Asbe\\nMD & CEO NPCI\\nJaxay Shah',\n",
       " 'Chairman QCI\\nKumar Rajgopalan\\nCEO RAI\\nNandan M. Nilekani\\nNon-Executive Chairman Infosys\\nPraveen Khandelwal\\nSecretary General CAIT\\nDr. R S Sharma\\nCEO National Health Authority\\nSanjiv',\n",
       " 'Joint Secretary, DPIIT Ministry of Commerce & Industry\\nSuresh Sethi\\nMD & CEO Protean eGov Technologies Limited\\nLatest Feeds\\nLatest Blog\\n3 months ago 1 min read\\nBuild for Bharat',\n",
       " 'In January 2024, ONDC joined forces with Google, Antler, Protean and Paytm to launch “Build for Bharat”, a nationwide hackathon that aimed to democratise the digital commerce ecosystem in India. This initiative helped ONDC in leveraging community contribution to find innovative and scalable solutions to tackle the most critical challenges',\n",
       " '8 months ago 2 min read\\nRedefining Digital Commerce through Open Network Framework',\n",
       " 'The world has already ushered in a new paradigm of interoperable open network concepts with introduction of open protocols such as HTTP and SMTP, however, the e-commerce ecosystem still operates in closed, non-interoperable platforms, resulting in significant concentration of data and services. This has led to market inefficiencies, amalgamation of',\n",
       " '8 months ago 1 min read\\nONDC Logistics Network Workshop: A Collaborative Effort to Empower E-commerce Logistics',\n",
       " 'In an era of rapid digital transformation, the Open Network for Digital Commerce (ONDC) has emerged as a beacon of innovation, democratizing e-commerce and expanding its reach across diverse sectors and cities. Recognizing the pivotal role of logistics in this ambitious journey, ONDC convened a transformative workshop on November 30,',\n",
       " 'Latest News\\n8 days ago 1 min read\\nSaaS startup Finarkein announces raising $4.75 mn in pre-series A round',\n",
       " 'Publication - Business Standard Edition - Online Finarkein has raised $4.75 million in a pre-series A round led by Nexus Venture Partners, said the business-to-business software as a service company on Tuesday. The round also saw participation from existing investors IIFL’s Fintech Fund and Eximius Ventures, and angels',\n",
       " '9 days ago 1 min read\\n17 states saw retail purchases cross 100,000-mark on ONDC in June quarter',\n",
       " 'Publication - Money Control Edition - Online As the Open Network for Digital Commerce (ONDC) looks to broaden its base to gain a stronger foothold in the hinterlands, data showed that four states placed at least a million retail orders each in the June quarter and 17 of them crossed',\n",
       " '9 days ago 1 min read\\nFintech startup PhonePe swings to adjusted profit in FY24',\n",
       " 'Publication - mint Edition - Online Bengaluru: Fintech startup PhonePe clocked a profit after tax of ₹197 crores, excluding ESOP costs, in the financial year 2024, compared to a loss of ₹738 crore a year earlier. The company’s standalone payments business also reported an adjusted PAT of ₹710 crore',\n",
       " 'Disclaimer: The infographic/animation is only for illustration purposes and does not depict the actual structure of ONDC. The name of the buyers portrayed is fictitious, and no identification with actual persons (living or deceased) is intended or should be inferred. Please note that ONDC is not a central mediator or intermediary, neither does it interfaces with buyers and sellers. ONDC is merely a communication protocol that allows Buyer Network Participants and Seller Network Participants to interact with each other.',\n",
       " 'ONDC Participant Portal\\nBegin and efficiently manage your journey on ONDC Network\\nUnderstand and select your role(s)\\nTrack, manage and troubleshoot your integration',\n",
       " 'Discover and collaborate with others\\nStay informed on network developments and announcements\\n807 Cities Show all Hide All Cities\\nAgra\\nAhmedabad\\nAlappuzha\\nAmbernath\\nAmritsar\\nBallari\\nBareli\\nBelagavi',\n",
       " 'Bengaluru\\nBhopal\\nBhubaneswar\\nBijnor\\nBobbili\\nChandausi\\nChennai\\nChhindwara\\nChikkamagaluru\\nCoimbatore\\nCuttack\\nDelhi\\nDerahun\\nErnakulam\\nErode\\nFaridabad\\nGangtok\\nGorakhpur\\nGurugram\\nHaridwar\\nHaveri\\nHosur',\n",
       " 'Hubballi\\nHyderabad\\nIndore\\nJabalpur\\nJaipur\\nJammu\\nKannur\\nKanpur\\nKochi\\nKolkata\\nKollam\\nKotputli\\nKozhikode Dist\\nKumbakonam\\nLakhimpur\\nLucknow\\nMargao\\nMadurai\\nMalur\\nMandya\\nMangaluru\\nMannar\\nMeerut\\nMohali',\n",
       " 'Moradabad\\nMumbai\\nMysuru\\nNadiad\\nNashik\\nNew Delhi\\nNoida\\nNorth Goa\\nPalakkad\\nPanaji\\nPiler\\nPollachi\\nPonda\\nPune\\nRajkot\\nSaharanpur\\nSecunderabad\\nShillong\\nSingur\\nSitamarhi\\nSitapura Industrial Area',\n",
       " 'Sri Ganganagar\\nSrinagar\\nSumerpur\\nSurat\\nSurendranagar\\nThane\\nTheni\\nThiruvananthapuram\\nTindivanam\\nTiruchirappalli\\nTirunelveli\\nThrissur\\nTiruchirappalli\\nTumakuru\\nUdaipur\\nUdupi\\nVadodara\\nVellore\\nVijayawada',\n",
       " 'Hide All Cities\\n7 Cities\\nBengaluru\\nDelhi(including Noida, Gurgaon and Faridabad)\\nChennai\\nHyderabad\\nKolkata\\nMeerut\\nMumbai\\nNo results for your search, please try with something else.',\n",
       " 'About ONDC Overview Board Of Directors Download the Strategy Paper Download the Public Consultation Paper\\nONDC Participants Network Participants Ecosystem Participants',\n",
       " 'Roles you can play Buyer Network Participant Seller Network Participant Gateway Technology Service Provider\\nHelp & Support Contact Us Privacy Policy Cookie Policy Terms and Conditions FAQs',\n",
       " 'ONDC | Open Network for Digital Commerce © 2024\\nPrivacy Policy Terms and Conditions\\nSign up - ONDC Participant Portal\\nDownload Now\\nfor Android™\\nONDC SAHAYAK',\n",
       " 'Click here to learn how to sell through the ONDC Network. Say \"Hi\" on +91 8130935050\\nONDC Participant Portal\\nBegin and efficiently manage your journey on ONDC Network',\n",
       " 'Understand and select your role(s)\\nTrack, manage and troubleshoot your integration\\nDiscover and collaborate with others\\nStay informed on network developments and announcements']"
      ]
     },
     "execution_count": 4,
     "metadata": {},
     "output_type": "execute_result"
    }
   ],
   "source": [
    "from langchain.text_splitter import CharacterTextSplitter\n",
    "\n",
    "splitter = CharacterTextSplitter(\n",
    "    chunk_size = 200,\n",
    "    chunk_overlap = 0,\n",
    "    separator = \"\\n\"\n",
    ")\n",
    "\n",
    "chunks = splitter.split_text(data[0].page_content)\n",
    "chunks"
   ]
  },
  {
   "cell_type": "markdown",
   "id": "4143c68f-d992-4a13-b5c3-f5fe5d64f4f2",
   "metadata": {},
   "source": [
    "# RecursiveCharacterTextSplitter"
   ]
  },
  {
   "cell_type": "code",
   "execution_count": 5,
   "id": "263108d4-07e7-4097-8331-7b02b8ead3b0",
   "metadata": {},
   "outputs": [
    {
     "data": {
      "text/plain": [
       "96"
      ]
     },
     "execution_count": 5,
     "metadata": {},
     "output_type": "execute_result"
    }
   ],
   "source": [
    "from langchain.text_splitter import RecursiveCharacterTextSplitter\n",
    "\n",
    "r_splitter = RecursiveCharacterTextSplitter(\n",
    "    chunk_size = 200,\n",
    "    chunk_overlap = 0,\n",
    "    separators = [\"\\n\\n\",\"\\n\",\".\",\"-\",\" \"]\n",
    ")\n",
    "\n",
    "chunks = r_splitter.split_text(data[0].page_content)\n",
    "len(chunks)"
   ]
  },
  {
   "cell_type": "code",
   "execution_count": 6,
   "id": "8048e9bc-7f33-4731-8061-e0b7306bcc93",
   "metadata": {},
   "outputs": [
    {
     "name": "stdout",
     "output_type": "stream",
     "text": [
      "152\n",
      "180\n",
      "193\n",
      "198\n",
      "132\n",
      "128\n",
      "102\n",
      "131\n",
      "190\n",
      "167\n",
      "78\n",
      "170\n",
      "149\n",
      "171\n",
      "157\n",
      "152\n",
      "127\n",
      "150\n",
      "139\n",
      "135\n",
      "189\n",
      "58\n",
      "195\n",
      "18\n",
      "197\n",
      "60\n",
      "190\n",
      "11\n",
      "199\n",
      "78\n",
      "177\n",
      "193\n",
      "119\n",
      "192\n",
      "179\n",
      "142\n",
      "79\n",
      "153\n",
      "1\n",
      "49\n",
      "115\n",
      "89\n",
      "156\n",
      "35\n",
      "57\n",
      "188\n",
      "21\n",
      "51\n",
      "1\n",
      "50\n",
      "108\n",
      "105\n",
      "174\n",
      "175\n",
      "190\n",
      "194\n",
      "190\n",
      "193\n",
      "147\n",
      "83\n",
      "160\n",
      "134\n",
      "56\n",
      "112\n",
      "142\n",
      "67\n",
      "126\n",
      "107\n",
      "72\n",
      "137\n",
      "111\n",
      "96\n",
      "35\n",
      "199\n",
      "47\n",
      "80\n",
      "26\n",
      "184\n",
      "88\n",
      "120\n",
      "146\n",
      "117\n",
      "141\n",
      "167\n",
      "196\n",
      "191\n",
      "193\n",
      "197\n",
      "188\n",
      "189\n",
      "95\n",
      "168\n",
      "189\n",
      "161\n",
      "168\n",
      "178\n"
     ]
    }
   ],
   "source": [
    "for i in chunks:\n",
    "    print(len(i))"
   ]
  },
  {
   "cell_type": "markdown",
   "id": "74a142df-1767-4ddc-b2f0-415a36ab83b0",
   "metadata": {},
   "source": [
    "# FAISS"
   ]
  },
  {
   "cell_type": "code",
   "execution_count": 40,
   "id": "ef91808d-f721-421e-b964-d850d0aef0c0",
   "metadata": {},
   "outputs": [
    {
     "data": {
      "text/plain": [
       "id                                                    20812\n",
       "title     The Rise of Mandatory Vaccinations Means the E...\n",
       "author                                        Shaun Bradley\n",
       "text      Written by Shaun Bradley   Mandatory vaccinati...\n",
       "Name: 12, dtype: object"
      ]
     },
     "execution_count": 40,
     "metadata": {},
     "output_type": "execute_result"
    }
   ],
   "source": [
    "import pandas as pd\n",
    "df = pd.read_csv(\"test.csv\")\n",
    "df = df[:100]\n",
    "df.iloc[12,:]"
   ]
  },
  {
   "cell_type": "code",
   "execution_count": 8,
   "id": "8edad33f-d162-4f06-9f71-638d444b4969",
   "metadata": {},
   "outputs": [
    {
     "name": "stderr",
     "output_type": "stream",
     "text": [
      "C:\\Users\\pragy\\anaconda3\\envs\\llm\\Lib\\site-packages\\sentence_transformers\\cross_encoder\\CrossEncoder.py:11: TqdmWarning: IProgress not found. Please update jupyter and ipywidgets. See https://ipywidgets.readthedocs.io/en/stable/user_install.html\n",
      "  from tqdm.autonotebook import tqdm, trange\n",
      "C:\\Users\\pragy\\anaconda3\\envs\\llm\\Lib\\site-packages\\transformers\\tokenization_utils_base.py:1601: FutureWarning: `clean_up_tokenization_spaces` was not set. It will be set to `True` by default. This behavior will be depracted in transformers v4.45, and will be then set to `False` by default. For more details check this issue: https://github.com/huggingface/transformers/issues/31884\n",
      "  warnings.warn(\n"
     ]
    }
   ],
   "source": [
    "from sentence_transformers import SentenceTransformer\n",
    "\n",
    "encoder = SentenceTransformer(\"all-mpnet-base-v2\")\n",
    "vectors = encoder.encode(df.text)"
   ]
  },
  {
   "cell_type": "code",
   "execution_count": 9,
   "id": "8dfe68c2-c660-4287-9ced-71af0b0d406b",
   "metadata": {},
   "outputs": [
    {
     "data": {
      "text/plain": [
       "(100, 768)"
      ]
     },
     "execution_count": 9,
     "metadata": {},
     "output_type": "execute_result"
    }
   ],
   "source": [
    "vectors.shape"
   ]
  },
  {
   "cell_type": "code",
   "execution_count": 14,
   "id": "15df52c6-4aac-4ee6-8ccc-db762787b5f3",
   "metadata": {},
   "outputs": [
    {
     "data": {
      "text/plain": [
       "768"
      ]
     },
     "execution_count": 14,
     "metadata": {},
     "output_type": "execute_result"
    }
   ],
   "source": [
    "dim = vectors.shape[1]\n",
    "dim"
   ]
  },
  {
   "cell_type": "code",
   "execution_count": 16,
   "id": "4a858fdf-5602-42f5-a513-afa0d772236c",
   "metadata": {},
   "outputs": [
    {
     "data": {
      "text/plain": [
       "<faiss.swigfaiss_avx2.IndexFlatL2; proxy of <Swig Object of type 'faiss::IndexFlatL2 *' at 0x000001DB43F6FF00> >"
      ]
     },
     "execution_count": 16,
     "metadata": {},
     "output_type": "execute_result"
    }
   ],
   "source": [
    "import faiss\n",
    "\n",
    "index = faiss.IndexFlatL2(dim)\n",
    "index"
   ]
  },
  {
   "cell_type": "code",
   "execution_count": 17,
   "id": "d9efb73b-20cd-460b-926e-49dbdd4b4ba6",
   "metadata": {},
   "outputs": [],
   "source": [
    "index.add(vectors)"
   ]
  },
  {
   "cell_type": "code",
   "execution_count": 41,
   "id": "24035bcd-a7da-46d7-ba05-1f926e0fcd67",
   "metadata": {},
   "outputs": [
    {
     "data": {
      "text/plain": [
       "(768,)"
      ]
     },
     "execution_count": 41,
     "metadata": {},
     "output_type": "execute_result"
    }
   ],
   "source": [
    "search_query = \"vaccinations\"\n",
    "vec = encoder.encode(search_query)\n",
    "vec.shape"
   ]
  },
  {
   "cell_type": "code",
   "execution_count": 42,
   "id": "519f8faa-4f02-4cab-9ec2-36a81369d194",
   "metadata": {},
   "outputs": [
    {
     "data": {
      "text/plain": [
       "(1, 768)"
      ]
     },
     "execution_count": 42,
     "metadata": {},
     "output_type": "execute_result"
    }
   ],
   "source": [
    "import numpy as np\n",
    "svec = np.array(vec).reshape(1,-1)\n",
    "svec.shape"
   ]
  },
  {
   "cell_type": "code",
   "execution_count": 43,
   "id": "39c751aa-9cb2-45a5-ad69-245410892db8",
   "metadata": {},
   "outputs": [
    {
     "data": {
      "text/plain": [
       "(array([[0.8024502, 1.5864768, 1.6176043]], dtype=float32),\n",
       " array([[12, 46, 74]], dtype=int64))"
      ]
     },
     "execution_count": 43,
     "metadata": {},
     "output_type": "execute_result"
    }
   ],
   "source": [
    "index.search(svec,k=3)"
   ]
  },
  {
   "cell_type": "code",
   "execution_count": null,
   "id": "23703cc1-74e4-47c8-bb44-0c0c394c5075",
   "metadata": {},
   "outputs": [],
   "source": []
  }
 ],
 "metadata": {
  "kernelspec": {
   "display_name": "Python 3 (ipykernel)",
   "language": "python",
   "name": "python3"
  },
  "language_info": {
   "codemirror_mode": {
    "name": "ipython",
    "version": 3
   },
   "file_extension": ".py",
   "mimetype": "text/x-python",
   "name": "python",
   "nbconvert_exporter": "python",
   "pygments_lexer": "ipython3",
   "version": "3.11.9"
  }
 },
 "nbformat": 4,
 "nbformat_minor": 5
}
