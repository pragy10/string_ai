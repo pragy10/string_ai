{
 "cells": [
  {
   "cell_type": "code",
   "execution_count": 1,
   "id": "f6d115f9-d65a-41d6-80e2-136042839ca5",
   "metadata": {},
   "outputs": [
    {
     "name": "stderr",
     "output_type": "stream",
     "text": [
      "C:\\Users\\pragy\\anaconda3\\envs\\llm\\Lib\\site-packages\\tqdm\\auto.py:21: TqdmWarning: IProgress not found. Please update jupyter and ipywidgets. See https://ipywidgets.readthedocs.io/en/stable/user_install.html\n",
      "  from .autonotebook import tqdm as notebook_tqdm\n"
     ]
    }
   ],
   "source": [
    "import tqdm as notebook_tqdm\n",
    "from langchain_google_genai import GoogleGenerativeAI"
   ]
  },
  {
   "cell_type": "code",
   "execution_count": 2,
   "id": "f4c5a998-e7be-4f8f-9d7a-cfa93bad1814",
   "metadata": {},
   "outputs": [
    {
     "name": "stdin",
     "output_type": "stream",
     "text": [
      "Provide your api key here ········\n"
     ]
    }
   ],
   "source": [
    "import getpass\n",
    "import os\n",
    "\n",
    "if \"GOOGLE_API_KEY\" not in os.environ:\n",
    "    os.environ[\"GOOGLE_API_KEY\"] = getpass.getpass(\"Provide your api key here\")\n",
    "\n",
    "api_key = os.environ[\"GOOGLE_API_KEY\"]"
   ]
  },
  {
   "cell_type": "code",
   "execution_count": 5,
   "id": "8e4b4731-d1e5-44b7-ae65-94b788447ffe",
   "metadata": {},
   "outputs": [
    {
     "name": "stdout",
     "output_type": "stream",
     "text": [
      "* **Aardvark** - A tech startup that specializes in artificial intelligence.\n",
      "* **Blip** - A tech startup that creates mobile apps.\n",
      "* **Cloudleap** - A tech startup that provides cloud computing services.\n",
      "* **DataGenie** - A tech startup that specializes in data analytics.\n",
      "* **Eureka** - A tech startup that creates innovative solutions to problems.\n",
      "* **Fidget** - A tech startup that develops fidget toys and other stress-relieving products.\n",
      "* **Gizmo** - A tech startup that creates smart home devices.\n",
      "* **Jukebox** - A tech startup that creates music streaming services.\n",
      "* **Kaleidoscope** - A tech startup that develops virtual reality (VR) and augmented reality (AR) experiences.\n",
      "* **Launchpad** - A tech startup that provides seed funding for early-stage companies.\n",
      "* **Mosaic** - A tech startup that creates software that helps businesses manage their data.\n",
      "* **Narwhal** - A tech startup that develops self-driving cars.\n",
      "* **Octopus** - A tech startup that creates software that helps businesses automate their processes.\n",
      "* **Pegasus** - A tech startup that develops drones and other unmanned aerial vehicles (UAVs).\n",
      "* **Pluto** - A tech startup that creates software that helps businesses explore outer space.\n",
      "* **Quasar** - A tech startup that develops quantum computing systems.\n",
      "* **Scorpio** - A tech startup that creates cybersecurity software.\n",
      "* **Segue** - A tech startup that helps businesses transition to the cloud.\n",
      "* **Sirius** - A tech startup that provides satellite internet services.\n",
      "* **Sputnik** - A tech startup that creates space exploration technologies.\n",
      "* **Tesla** - A tech startup that develops electric vehicles.\n",
      "* **Venus** - A tech startup that creates sustainable energy technologies.\n",
      "* **Wanderlust** - A tech startup that helps people explore the world.\n",
      "* **X-Ray** - A tech startup that develops medical imaging technologies.\n",
      "* **Yeti** - A tech startup that creates outdoor gear and apparel.\n",
      "* **Zigzag** - A tech startup that creates software that helps businesses manage their supply chains.\n"
     ]
    }
   ],
   "source": [
    "llm = GoogleGenerativeAI(model=\"models/text-bison-001\", google_api_key=api_key, temperature=0.7)\n",
    "print(llm.invoke(\"suggest some names for a tech startup\"))"
   ]
  },
  {
   "cell_type": "code",
   "execution_count": 38,
   "id": "86e80cc8-fb17-45a1-b81f-987553775b6a",
   "metadata": {},
   "outputs": [
    {
     "ename": "ValidationError",
     "evalue": "1 validation error for LLMChain\noutput_keys\n  extra fields not permitted (type=value_error.extra)",
     "output_type": "error",
     "traceback": [
      "\u001b[1;31m---------------------------------------------------------------------------\u001b[0m",
      "\u001b[1;31mValidationError\u001b[0m                           Traceback (most recent call last)",
      "Cell \u001b[1;32mIn[38], line 19\u001b[0m\n\u001b[0;32m     12\u001b[0m pt_name2 \u001b[38;5;241m=\u001b[39m PromptTemplate(\n\u001b[0;32m     13\u001b[0m     \u001b[38;5;28minput\u001b[39m \u001b[38;5;241m=\u001b[39m [\u001b[38;5;124m'\u001b[39m\u001b[38;5;124mname\u001b[39m\u001b[38;5;124m'\u001b[39m],\n\u001b[0;32m     14\u001b[0m     template \u001b[38;5;241m=\u001b[39m \u001b[38;5;124m\"\u001b[39m\u001b[38;5;124msuggest some services that \u001b[39m\u001b[38;5;132;01m{name}\u001b[39;00m\u001b[38;5;124m provides\u001b[39m\u001b[38;5;124m\"\u001b[39m\n\u001b[0;32m     15\u001b[0m )\n\u001b[0;32m     17\u001b[0m op \u001b[38;5;241m=\u001b[39m StrOutputParser()\n\u001b[1;32m---> 19\u001b[0m chain1 \u001b[38;5;241m=\u001b[39m LLMChain(prompt \u001b[38;5;241m=\u001b[39m pt_name, llm \u001b[38;5;241m=\u001b[39m llm, output_parser \u001b[38;5;241m=\u001b[39m op, output_keys \u001b[38;5;241m=\u001b[39m \u001b[38;5;124m'\u001b[39m\u001b[38;5;124mnames\u001b[39m\u001b[38;5;124m'\u001b[39m)\n\u001b[0;32m     20\u001b[0m chain2 \u001b[38;5;241m=\u001b[39m LLMChain(prompt \u001b[38;5;241m=\u001b[39m pt_name2, llm \u001b[38;5;241m=\u001b[39m llm, output_parser \u001b[38;5;241m=\u001b[39m op, output_keys \u001b[38;5;241m=\u001b[39m \u001b[38;5;124m'\u001b[39m\u001b[38;5;124mservices\u001b[39m\u001b[38;5;124m'\u001b[39m)\n\u001b[0;32m     22\u001b[0m result \u001b[38;5;241m=\u001b[39m chain\u001b[38;5;241m.\u001b[39minvoke({\u001b[38;5;124m'\u001b[39m\u001b[38;5;124mdomain\u001b[39m\u001b[38;5;124m'\u001b[39m:\u001b[38;5;124m'\u001b[39m\u001b[38;5;124mhealthcare\u001b[39m\u001b[38;5;124m'\u001b[39m})\n",
      "File \u001b[1;32m~\\anaconda3\\envs\\llm\\Lib\\site-packages\\langchain_core\\_api\\deprecation.py:215\u001b[0m, in \u001b[0;36mdeprecated.<locals>.deprecate.<locals>.finalize.<locals>.warn_if_direct_instance\u001b[1;34m(self, *args, **kwargs)\u001b[0m\n\u001b[0;32m    213\u001b[0m     warned \u001b[38;5;241m=\u001b[39m \u001b[38;5;28;01mTrue\u001b[39;00m\n\u001b[0;32m    214\u001b[0m     emit_warning()\n\u001b[1;32m--> 215\u001b[0m \u001b[38;5;28;01mreturn\u001b[39;00m wrapped(\u001b[38;5;28mself\u001b[39m, \u001b[38;5;241m*\u001b[39margs, \u001b[38;5;241m*\u001b[39m\u001b[38;5;241m*\u001b[39mkwargs)\n",
      "File \u001b[1;32m~\\anaconda3\\envs\\llm\\Lib\\site-packages\\langchain_core\\load\\serializable.py:113\u001b[0m, in \u001b[0;36mSerializable.__init__\u001b[1;34m(self, *args, **kwargs)\u001b[0m\n\u001b[0;32m    111\u001b[0m \u001b[38;5;28;01mdef\u001b[39;00m \u001b[38;5;21m__init__\u001b[39m(\u001b[38;5;28mself\u001b[39m, \u001b[38;5;241m*\u001b[39margs: Any, \u001b[38;5;241m*\u001b[39m\u001b[38;5;241m*\u001b[39mkwargs: Any) \u001b[38;5;241m-\u001b[39m\u001b[38;5;241m>\u001b[39m \u001b[38;5;28;01mNone\u001b[39;00m:\n\u001b[0;32m    112\u001b[0m \u001b[38;5;250m    \u001b[39m\u001b[38;5;124;03m\"\"\"\"\"\"\u001b[39;00m\n\u001b[1;32m--> 113\u001b[0m     \u001b[38;5;28msuper\u001b[39m()\u001b[38;5;241m.\u001b[39m\u001b[38;5;21m__init__\u001b[39m(\u001b[38;5;241m*\u001b[39margs, \u001b[38;5;241m*\u001b[39m\u001b[38;5;241m*\u001b[39mkwargs)\n",
      "File \u001b[1;32m~\\anaconda3\\envs\\llm\\Lib\\site-packages\\pydantic\\v1\\main.py:341\u001b[0m, in \u001b[0;36mBaseModel.__init__\u001b[1;34m(__pydantic_self__, **data)\u001b[0m\n\u001b[0;32m    339\u001b[0m values, fields_set, validation_error \u001b[38;5;241m=\u001b[39m validate_model(__pydantic_self__\u001b[38;5;241m.\u001b[39m\u001b[38;5;18m__class__\u001b[39m, data)\n\u001b[0;32m    340\u001b[0m \u001b[38;5;28;01mif\u001b[39;00m validation_error:\n\u001b[1;32m--> 341\u001b[0m     \u001b[38;5;28;01mraise\u001b[39;00m validation_error\n\u001b[0;32m    342\u001b[0m \u001b[38;5;28;01mtry\u001b[39;00m:\n\u001b[0;32m    343\u001b[0m     object_setattr(__pydantic_self__, \u001b[38;5;124m'\u001b[39m\u001b[38;5;124m__dict__\u001b[39m\u001b[38;5;124m'\u001b[39m, values)\n",
      "\u001b[1;31mValidationError\u001b[0m: 1 validation error for LLMChain\noutput_keys\n  extra fields not permitted (type=value_error.extra)"
     ]
    }
   ],
   "source": [
    "from langchain_core.prompts import PromptTemplate\n",
    "from langchain.chains import LLMChain\n",
    "from langchain_core.output_parsers import StrOutputParser\n",
    "\n",
    "pt_name1 = PromptTemplate(\n",
    "    input_variables = ['domain'],\n",
    "    template = \"give A SINGLE name for a {domain} startup\"\n",
    ")\n",
    "\n",
    "#pt_name.format(domain=\"healthcare\")\n",
    "\n",
    "pt_name2 = PromptTemplate(\n",
    "    input = ['name'],\n",
    "    template = \"suggest some services that {name} provides\"\n",
    ")\n",
    "\n",
    "op = StrOutputParser()\n",
    "\n",
    "chain1 = LLMChain(prompt = pt_name, llm = llm, output_parser = op, output_keys = 'names')\n",
    "chain2 = LLMChain(prompt = pt_name2, llm = llm, output_parser = op, output_keys = 'services')\n",
    "\n",
    "result = chain.invoke({'domain':'healthcare'})\n",
    "print(result)\n",
    "# if isinstance(result, dict):\n",
    "#     print(result['name'])"
   ]
  },
  {
   "cell_type": "code",
   "execution_count": 30,
   "id": "d6d778c9-b5a4-4a48-a3f1-6022219913d1",
   "metadata": {},
   "outputs": [
    {
     "name": "stdout",
     "output_type": "stream",
     "text": [
      "Startup name : * **HealthHub**\n",
      "* **WellnessMe**\n",
      "* **DoctorNow**\n",
      "* **CareCloud**\n",
      "* **MyClinic**\n",
      "* **HealthEasy**\n",
      "* **InsureMe**\n",
      "* **MedDirect**\n",
      "* **HealthJoy**\n",
      "* **HealthSmart**\n",
      "\n",
      "**HealthHub** provides a variety of health services, including:\n",
      "\n",
      "* **Virtual doctor visits:** You can see a doctor online for a variety of minor illnesses and conditions.\n",
      "* **Prescription refills:** You can refill your prescriptions online and have them delivered to your door.\n",
      "* **Lab tests:** You can order lab tests online and have them done at a local lab.\n",
      "* **Health coaching:** You can get help from a health coach to make healthy lifestyle changes.\n",
      "* **Wellness programs:** You can find programs to help you improve your overall health and well-being.\n",
      "\n",
      "**HealTech** offers a variety of health-related services, including:\n",
      "\n",
      "* **Health tracking:** You can track your weight, blood pressure, and other health metrics.\n",
      "* **Health coaching:** You can get help from a health coach to make healthy lifestyle changes.\n",
      "* **Diet and nutrition plans:** You can find plans to help you lose weight, manage your diabetes, or improve your overall health.\n",
      "* **Exercise programs:** You can find programs to help you get fit and stay healthy.\n",
      "* **Meditation and relaxation apps:** You can find apps to help you relax and reduce stress.\n",
      "\n",
      "**MediTech** provides a variety of medical services, including:\n",
      "\n",
      "* **Online doctor visits:** You can see a doctor online for a variety of minor illnesses and conditions.\n",
      "* **Prescription refills:** You can refill your prescriptions online and have them delivered to your door.\n",
      "* **Lab tests:** You can order lab tests online and have them done at a local lab.\n",
      "* **X-rays and imaging:** You can get X-rays and other imaging done at a local lab.\n",
      "* **Surgery:** You can have surgery at a local hospital.\n",
      "\n",
      "**WellnessNow** offers a variety of health and wellness services, including:\n",
      "\n",
      "* **Virtual doctor visits:** You can see a doctor online for a variety of minor illnesses and conditions.\n",
      "* **Prescription refills:** You can refill your prescriptions online and have them delivered to your door.\n",
      "* **Lab tests:** You can order lab tests online and have them done at a local lab.\n",
      "* **Health coaching:** You can get help from a health coach to make healthy lifestyle changes.\n",
      "* **Wellness programs:** You can find programs to help you improve your overall health and well-being.\n",
      "\n",
      "**MyHealthBuddy** provides a variety of health and wellness services, including:\n",
      "\n",
      "* **Virtual doctor visits:** You can see a doctor online for a variety of minor illnesses and conditions.\n",
      "* **Prescription refills:** You can refill your prescriptions online and have them delivered to your door.\n",
      "* **Lab tests:** You can order lab tests online and have them done at a local lab.\n",
      "* **Health coaching:** You can get help from a health coach to make healthy lifestyle changes.\n",
      "* **Wellness programs:** You can find programs to help you improve your overall health and well-being.\n",
      "\n",
      "**DoctorOnDemand** offers a variety of virtual healthcare services, including:\n",
      "\n",
      "* **Online doctor visits:** You can see a doctor online for a variety of minor illnesses and conditions.\n",
      "* **Prescription refills:** You can refill your prescriptions online and have them delivered to your door.\n",
      "* **Lab tests:** You can order lab tests online and have them done at a local lab.\n",
      "* **X-rays and imaging:** You can get X-rays and other imaging done at a local lab.\n",
      "* **Surgery:** You can have surgery at a local hospital.\n",
      "\n",
      "**PatientsFirst** offers a variety of healthcare services, including:\n",
      "\n",
      "* **Virtual doctor visits:** You can see a doctor online for a variety of minor illnesses and conditions.\n",
      "* **Prescription refills:** You can refill your prescriptions online and have them delivered to your door.\n",
      "* **Lab tests:** You can order lab tests online and have them done at a local lab.\n",
      "* **X-rays and imaging:** You can get X-rays and other imaging done at a local lab.\n",
      "* **Surgery:** You can have surgery at a local hospital.\n",
      "\n",
      "**CareZone** offers a variety of health and wellness services, including:\n",
      "\n",
      "* **Health tracking:** You can track your weight, blood pressure, and other health metrics.\n",
      "* **Health coaching:** You can get help from a health coach to make healthy lifestyle changes.\n",
      "* **Diet and nutrition plans:** You can find plans to help you lose weight, manage your diabetes, or improve your overall health.\n",
      "* **Exercise programs:** You can find programs to help you get fit and stay healthy.\n",
      "* **Meditation and relaxation apps:** You can find apps to help you relax and reduce stress.\n",
      "\n",
      "**HealthCare.com** offers a variety of health insurance plans, as well as tools and resources to help you find the right plan for your needs.\n",
      "\n",
      "**In\n"
     ]
    }
   ],
   "source": [
    "from langchain.chains import SimpleSequentialChain\n",
    "\n",
    "sq_chain = SimpleSequentialChain(chains = [chain1, chain2])\n",
    "response = sq_chain.invoke('healthcare')\n",
    "\n",
    "if isinstance(response, dict):\n",
    "    print(f\"Startup name : {result['text']}\\n\")\n",
    "    print(response['output'])"
   ]
  },
  {
   "cell_type": "code",
   "execution_count": null,
   "id": "fdad3b6f-7908-47eb-9bee-581f71578a4a",
   "metadata": {},
   "outputs": [],
   "source": []
  }
 ],
 "metadata": {
  "kernelspec": {
   "display_name": "Python 3 (ipykernel)",
   "language": "python",
   "name": "python3"
  },
  "language_info": {
   "codemirror_mode": {
    "name": "ipython",
    "version": 3
   },
   "file_extension": ".py",
   "mimetype": "text/x-python",
   "name": "python",
   "nbconvert_exporter": "python",
   "pygments_lexer": "ipython3",
   "version": "3.11.9"
  }
 },
 "nbformat": 4,
 "nbformat_minor": 5
}
